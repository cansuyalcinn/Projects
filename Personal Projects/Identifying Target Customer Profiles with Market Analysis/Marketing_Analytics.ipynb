{
 "cells": [
  {
   "cell_type": "markdown",
   "metadata": {},
   "source": [
    "#### You're a marketing analyst and you've been told by the Chief Marketing Officer that recent marketing campaigns have not been as effective as they were expected to be. You need to analyze the data set to understand this problem and propose data-driven solutions."
   ]
  },
  {
   "cell_type": "code",
   "execution_count": 1,
   "metadata": {},
   "outputs": [],
   "source": [
    "import pandas as pd\n",
    "import numpy as np\n",
    "import matplotlib.pyplot as plt\n",
    "import seaborn as sns\n",
    "sns.set()"
   ]
  },
  {
   "cell_type": "code",
   "execution_count": 2,
   "metadata": {},
   "outputs": [],
   "source": [
    "df=pd.read_csv(\"marketing_data.csv\")"
   ]
  },
  {
   "cell_type": "markdown",
   "metadata": {},
   "source": [
    "## Data Cleaning"
   ]
  },
  {
   "cell_type": "code",
   "execution_count": 3,
   "metadata": {},
   "outputs": [
    {
     "name": "stdout",
     "output_type": "stream",
     "text": [
      "<class 'pandas.core.frame.DataFrame'>\n",
      "RangeIndex: 2240 entries, 0 to 2239\n",
      "Data columns (total 28 columns):\n",
      " #   Column               Non-Null Count  Dtype \n",
      "---  ------               --------------  ----- \n",
      " 0   ID                   2240 non-null   int64 \n",
      " 1   Year_Birth           2240 non-null   int64 \n",
      " 2   Education            2240 non-null   object\n",
      " 3   Marital_Status       2240 non-null   object\n",
      " 4    Income              2216 non-null   object\n",
      " 5   Kidhome              2240 non-null   int64 \n",
      " 6   Teenhome             2240 non-null   int64 \n",
      " 7   Dt_Customer          2240 non-null   object\n",
      " 8   Recency              2240 non-null   int64 \n",
      " 9   MntWines             2240 non-null   int64 \n",
      " 10  MntFruits            2240 non-null   int64 \n",
      " 11  MntMeatProducts      2240 non-null   int64 \n",
      " 12  MntFishProducts      2240 non-null   int64 \n",
      " 13  MntSweetProducts     2240 non-null   int64 \n",
      " 14  MntGoldProds         2240 non-null   int64 \n",
      " 15  NumDealsPurchases    2240 non-null   int64 \n",
      " 16  NumWebPurchases      2240 non-null   int64 \n",
      " 17  NumCatalogPurchases  2240 non-null   int64 \n",
      " 18  NumStorePurchases    2240 non-null   int64 \n",
      " 19  NumWebVisitsMonth    2240 non-null   int64 \n",
      " 20  AcceptedCmp3         2240 non-null   int64 \n",
      " 21  AcceptedCmp4         2240 non-null   int64 \n",
      " 22  AcceptedCmp5         2240 non-null   int64 \n",
      " 23  AcceptedCmp1         2240 non-null   int64 \n",
      " 24  AcceptedCmp2         2240 non-null   int64 \n",
      " 25  Response             2240 non-null   int64 \n",
      " 26  Complain             2240 non-null   int64 \n",
      " 27  Country              2240 non-null   object\n",
      "dtypes: int64(23), object(5)\n",
      "memory usage: 490.1+ KB\n"
     ]
    }
   ],
   "source": [
    "df.info()"
   ]
  },
  {
   "cell_type": "markdown",
   "metadata": {},
   "source": [
    "####  *There is a white space in the name of Income coloumn. Income coloumn=> remoce $ sign"
   ]
  },
  {
   "cell_type": "code",
   "execution_count": 4,
   "metadata": {},
   "outputs": [
    {
     "data": {
      "text/html": [
       "<div>\n",
       "<style scoped>\n",
       "    .dataframe tbody tr th:only-of-type {\n",
       "        vertical-align: middle;\n",
       "    }\n",
       "\n",
       "    .dataframe tbody tr th {\n",
       "        vertical-align: top;\n",
       "    }\n",
       "\n",
       "    .dataframe thead th {\n",
       "        text-align: right;\n",
       "    }\n",
       "</style>\n",
       "<table border=\"1\" class=\"dataframe\">\n",
       "  <thead>\n",
       "    <tr style=\"text-align: right;\">\n",
       "      <th></th>\n",
       "      <th>ID</th>\n",
       "      <th>Year_Birth</th>\n",
       "      <th>Education</th>\n",
       "      <th>Marital_Status</th>\n",
       "      <th>Income</th>\n",
       "      <th>Kidhome</th>\n",
       "      <th>Teenhome</th>\n",
       "      <th>Dt_Customer</th>\n",
       "      <th>Recency</th>\n",
       "      <th>MntWines</th>\n",
       "      <th>...</th>\n",
       "      <th>NumStorePurchases</th>\n",
       "      <th>NumWebVisitsMonth</th>\n",
       "      <th>AcceptedCmp3</th>\n",
       "      <th>AcceptedCmp4</th>\n",
       "      <th>AcceptedCmp5</th>\n",
       "      <th>AcceptedCmp1</th>\n",
       "      <th>AcceptedCmp2</th>\n",
       "      <th>Response</th>\n",
       "      <th>Complain</th>\n",
       "      <th>Country</th>\n",
       "    </tr>\n",
       "  </thead>\n",
       "  <tbody>\n",
       "    <tr>\n",
       "      <th>0</th>\n",
       "      <td>1826</td>\n",
       "      <td>1970</td>\n",
       "      <td>Graduation</td>\n",
       "      <td>Divorced</td>\n",
       "      <td>$84,835.00</td>\n",
       "      <td>0</td>\n",
       "      <td>0</td>\n",
       "      <td>6/16/14</td>\n",
       "      <td>0</td>\n",
       "      <td>189</td>\n",
       "      <td>...</td>\n",
       "      <td>6</td>\n",
       "      <td>1</td>\n",
       "      <td>0</td>\n",
       "      <td>0</td>\n",
       "      <td>0</td>\n",
       "      <td>0</td>\n",
       "      <td>0</td>\n",
       "      <td>1</td>\n",
       "      <td>0</td>\n",
       "      <td>SP</td>\n",
       "    </tr>\n",
       "    <tr>\n",
       "      <th>1</th>\n",
       "      <td>1</td>\n",
       "      <td>1961</td>\n",
       "      <td>Graduation</td>\n",
       "      <td>Single</td>\n",
       "      <td>$57,091.00</td>\n",
       "      <td>0</td>\n",
       "      <td>0</td>\n",
       "      <td>6/15/14</td>\n",
       "      <td>0</td>\n",
       "      <td>464</td>\n",
       "      <td>...</td>\n",
       "      <td>7</td>\n",
       "      <td>5</td>\n",
       "      <td>0</td>\n",
       "      <td>0</td>\n",
       "      <td>0</td>\n",
       "      <td>0</td>\n",
       "      <td>1</td>\n",
       "      <td>1</td>\n",
       "      <td>0</td>\n",
       "      <td>CA</td>\n",
       "    </tr>\n",
       "    <tr>\n",
       "      <th>2</th>\n",
       "      <td>10476</td>\n",
       "      <td>1958</td>\n",
       "      <td>Graduation</td>\n",
       "      <td>Married</td>\n",
       "      <td>$67,267.00</td>\n",
       "      <td>0</td>\n",
       "      <td>1</td>\n",
       "      <td>5/13/14</td>\n",
       "      <td>0</td>\n",
       "      <td>134</td>\n",
       "      <td>...</td>\n",
       "      <td>5</td>\n",
       "      <td>2</td>\n",
       "      <td>0</td>\n",
       "      <td>0</td>\n",
       "      <td>0</td>\n",
       "      <td>0</td>\n",
       "      <td>0</td>\n",
       "      <td>0</td>\n",
       "      <td>0</td>\n",
       "      <td>US</td>\n",
       "    </tr>\n",
       "    <tr>\n",
       "      <th>3</th>\n",
       "      <td>1386</td>\n",
       "      <td>1967</td>\n",
       "      <td>Graduation</td>\n",
       "      <td>Together</td>\n",
       "      <td>$32,474.00</td>\n",
       "      <td>1</td>\n",
       "      <td>1</td>\n",
       "      <td>5/11/14</td>\n",
       "      <td>0</td>\n",
       "      <td>10</td>\n",
       "      <td>...</td>\n",
       "      <td>2</td>\n",
       "      <td>7</td>\n",
       "      <td>0</td>\n",
       "      <td>0</td>\n",
       "      <td>0</td>\n",
       "      <td>0</td>\n",
       "      <td>0</td>\n",
       "      <td>0</td>\n",
       "      <td>0</td>\n",
       "      <td>AUS</td>\n",
       "    </tr>\n",
       "    <tr>\n",
       "      <th>4</th>\n",
       "      <td>5371</td>\n",
       "      <td>1989</td>\n",
       "      <td>Graduation</td>\n",
       "      <td>Single</td>\n",
       "      <td>$21,474.00</td>\n",
       "      <td>1</td>\n",
       "      <td>0</td>\n",
       "      <td>4/8/14</td>\n",
       "      <td>0</td>\n",
       "      <td>6</td>\n",
       "      <td>...</td>\n",
       "      <td>2</td>\n",
       "      <td>7</td>\n",
       "      <td>1</td>\n",
       "      <td>0</td>\n",
       "      <td>0</td>\n",
       "      <td>0</td>\n",
       "      <td>0</td>\n",
       "      <td>1</td>\n",
       "      <td>0</td>\n",
       "      <td>SP</td>\n",
       "    </tr>\n",
       "  </tbody>\n",
       "</table>\n",
       "<p>5 rows × 28 columns</p>\n",
       "</div>"
      ],
      "text/plain": [
       "      ID  Year_Birth   Education Marital_Status      Income   Kidhome  \\\n",
       "0   1826        1970  Graduation       Divorced  $84,835.00         0   \n",
       "1      1        1961  Graduation         Single  $57,091.00         0   \n",
       "2  10476        1958  Graduation        Married  $67,267.00         0   \n",
       "3   1386        1967  Graduation       Together  $32,474.00         1   \n",
       "4   5371        1989  Graduation         Single  $21,474.00         1   \n",
       "\n",
       "   Teenhome Dt_Customer  Recency  MntWines  ...  NumStorePurchases  \\\n",
       "0         0     6/16/14        0       189  ...                  6   \n",
       "1         0     6/15/14        0       464  ...                  7   \n",
       "2         1     5/13/14        0       134  ...                  5   \n",
       "3         1     5/11/14        0        10  ...                  2   \n",
       "4         0      4/8/14        0         6  ...                  2   \n",
       "\n",
       "   NumWebVisitsMonth  AcceptedCmp3  AcceptedCmp4  AcceptedCmp5  AcceptedCmp1  \\\n",
       "0                  1             0             0             0             0   \n",
       "1                  5             0             0             0             0   \n",
       "2                  2             0             0             0             0   \n",
       "3                  7             0             0             0             0   \n",
       "4                  7             1             0             0             0   \n",
       "\n",
       "   AcceptedCmp2  Response  Complain  Country  \n",
       "0             0         1         0       SP  \n",
       "1             1         1         0       CA  \n",
       "2             0         0         0       US  \n",
       "3             0         0         0      AUS  \n",
       "4             0         1         0       SP  \n",
       "\n",
       "[5 rows x 28 columns]"
      ]
     },
     "execution_count": 4,
     "metadata": {},
     "output_type": "execute_result"
    }
   ],
   "source": [
    "df.head()"
   ]
  },
  {
   "cell_type": "code",
   "execution_count": 5,
   "metadata": {},
   "outputs": [],
   "source": [
    "#no more white space in coloumns\n",
    "df.columns = df.columns.str.replace(' ', '')"
   ]
  },
  {
   "cell_type": "code",
   "execution_count": 6,
   "metadata": {},
   "outputs": [
    {
     "data": {
      "text/plain": [
       "0       84835.0\n",
       "1       57091.0\n",
       "2       67267.0\n",
       "3       32474.0\n",
       "4       21474.0\n",
       "         ...   \n",
       "2235    66476.0\n",
       "2236    31056.0\n",
       "2237    46310.0\n",
       "2238    65819.0\n",
       "2239    94871.0\n",
       "Name: Income, Length: 2240, dtype: float64"
      ]
     },
     "execution_count": 6,
     "metadata": {},
     "output_type": "execute_result"
    }
   ],
   "source": [
    "# remove dollar sign and change type to integer\n",
    "df['Income']=df['Income'].str.replace('$','')\n",
    "df['Income']=df['Income'].str.replace(',','').astype(float)\n",
    "df['Income']"
   ]
  },
  {
   "cell_type": "code",
   "execution_count": 7,
   "metadata": {},
   "outputs": [
    {
     "data": {
      "text/html": [
       "<div>\n",
       "<style scoped>\n",
       "    .dataframe tbody tr th:only-of-type {\n",
       "        vertical-align: middle;\n",
       "    }\n",
       "\n",
       "    .dataframe tbody tr th {\n",
       "        vertical-align: top;\n",
       "    }\n",
       "\n",
       "    .dataframe thead th {\n",
       "        text-align: right;\n",
       "    }\n",
       "</style>\n",
       "<table border=\"1\" class=\"dataframe\">\n",
       "  <thead>\n",
       "    <tr style=\"text-align: right;\">\n",
       "      <th></th>\n",
       "      <th>ID</th>\n",
       "      <th>Year_Birth</th>\n",
       "      <th>Education</th>\n",
       "      <th>Marital_Status</th>\n",
       "      <th>Income</th>\n",
       "      <th>Kidhome</th>\n",
       "      <th>Teenhome</th>\n",
       "      <th>Dt_Customer</th>\n",
       "      <th>Recency</th>\n",
       "      <th>MntWines</th>\n",
       "      <th>...</th>\n",
       "      <th>NumStorePurchases</th>\n",
       "      <th>NumWebVisitsMonth</th>\n",
       "      <th>AcceptedCmp3</th>\n",
       "      <th>AcceptedCmp4</th>\n",
       "      <th>AcceptedCmp5</th>\n",
       "      <th>AcceptedCmp1</th>\n",
       "      <th>AcceptedCmp2</th>\n",
       "      <th>Response</th>\n",
       "      <th>Complain</th>\n",
       "      <th>Country</th>\n",
       "    </tr>\n",
       "  </thead>\n",
       "  <tbody>\n",
       "    <tr>\n",
       "      <th>0</th>\n",
       "      <td>1826</td>\n",
       "      <td>1970</td>\n",
       "      <td>Graduation</td>\n",
       "      <td>Divorced</td>\n",
       "      <td>84835.0</td>\n",
       "      <td>0</td>\n",
       "      <td>0</td>\n",
       "      <td>6/16/14</td>\n",
       "      <td>0</td>\n",
       "      <td>189</td>\n",
       "      <td>...</td>\n",
       "      <td>6</td>\n",
       "      <td>1</td>\n",
       "      <td>0</td>\n",
       "      <td>0</td>\n",
       "      <td>0</td>\n",
       "      <td>0</td>\n",
       "      <td>0</td>\n",
       "      <td>1</td>\n",
       "      <td>0</td>\n",
       "      <td>SP</td>\n",
       "    </tr>\n",
       "    <tr>\n",
       "      <th>1</th>\n",
       "      <td>1</td>\n",
       "      <td>1961</td>\n",
       "      <td>Graduation</td>\n",
       "      <td>Single</td>\n",
       "      <td>57091.0</td>\n",
       "      <td>0</td>\n",
       "      <td>0</td>\n",
       "      <td>6/15/14</td>\n",
       "      <td>0</td>\n",
       "      <td>464</td>\n",
       "      <td>...</td>\n",
       "      <td>7</td>\n",
       "      <td>5</td>\n",
       "      <td>0</td>\n",
       "      <td>0</td>\n",
       "      <td>0</td>\n",
       "      <td>0</td>\n",
       "      <td>1</td>\n",
       "      <td>1</td>\n",
       "      <td>0</td>\n",
       "      <td>CA</td>\n",
       "    </tr>\n",
       "    <tr>\n",
       "      <th>2</th>\n",
       "      <td>10476</td>\n",
       "      <td>1958</td>\n",
       "      <td>Graduation</td>\n",
       "      <td>Married</td>\n",
       "      <td>67267.0</td>\n",
       "      <td>0</td>\n",
       "      <td>1</td>\n",
       "      <td>5/13/14</td>\n",
       "      <td>0</td>\n",
       "      <td>134</td>\n",
       "      <td>...</td>\n",
       "      <td>5</td>\n",
       "      <td>2</td>\n",
       "      <td>0</td>\n",
       "      <td>0</td>\n",
       "      <td>0</td>\n",
       "      <td>0</td>\n",
       "      <td>0</td>\n",
       "      <td>0</td>\n",
       "      <td>0</td>\n",
       "      <td>US</td>\n",
       "    </tr>\n",
       "    <tr>\n",
       "      <th>3</th>\n",
       "      <td>1386</td>\n",
       "      <td>1967</td>\n",
       "      <td>Graduation</td>\n",
       "      <td>Together</td>\n",
       "      <td>32474.0</td>\n",
       "      <td>1</td>\n",
       "      <td>1</td>\n",
       "      <td>5/11/14</td>\n",
       "      <td>0</td>\n",
       "      <td>10</td>\n",
       "      <td>...</td>\n",
       "      <td>2</td>\n",
       "      <td>7</td>\n",
       "      <td>0</td>\n",
       "      <td>0</td>\n",
       "      <td>0</td>\n",
       "      <td>0</td>\n",
       "      <td>0</td>\n",
       "      <td>0</td>\n",
       "      <td>0</td>\n",
       "      <td>AUS</td>\n",
       "    </tr>\n",
       "    <tr>\n",
       "      <th>4</th>\n",
       "      <td>5371</td>\n",
       "      <td>1989</td>\n",
       "      <td>Graduation</td>\n",
       "      <td>Single</td>\n",
       "      <td>21474.0</td>\n",
       "      <td>1</td>\n",
       "      <td>0</td>\n",
       "      <td>4/8/14</td>\n",
       "      <td>0</td>\n",
       "      <td>6</td>\n",
       "      <td>...</td>\n",
       "      <td>2</td>\n",
       "      <td>7</td>\n",
       "      <td>1</td>\n",
       "      <td>0</td>\n",
       "      <td>0</td>\n",
       "      <td>0</td>\n",
       "      <td>0</td>\n",
       "      <td>1</td>\n",
       "      <td>0</td>\n",
       "      <td>SP</td>\n",
       "    </tr>\n",
       "  </tbody>\n",
       "</table>\n",
       "<p>5 rows × 28 columns</p>\n",
       "</div>"
      ],
      "text/plain": [
       "      ID  Year_Birth   Education Marital_Status   Income  Kidhome  Teenhome  \\\n",
       "0   1826        1970  Graduation       Divorced  84835.0        0         0   \n",
       "1      1        1961  Graduation         Single  57091.0        0         0   \n",
       "2  10476        1958  Graduation        Married  67267.0        0         1   \n",
       "3   1386        1967  Graduation       Together  32474.0        1         1   \n",
       "4   5371        1989  Graduation         Single  21474.0        1         0   \n",
       "\n",
       "  Dt_Customer  Recency  MntWines  ...  NumStorePurchases  NumWebVisitsMonth  \\\n",
       "0     6/16/14        0       189  ...                  6                  1   \n",
       "1     6/15/14        0       464  ...                  7                  5   \n",
       "2     5/13/14        0       134  ...                  5                  2   \n",
       "3     5/11/14        0        10  ...                  2                  7   \n",
       "4      4/8/14        0         6  ...                  2                  7   \n",
       "\n",
       "   AcceptedCmp3  AcceptedCmp4  AcceptedCmp5  AcceptedCmp1  AcceptedCmp2  \\\n",
       "0             0             0             0             0             0   \n",
       "1             0             0             0             0             1   \n",
       "2             0             0             0             0             0   \n",
       "3             0             0             0             0             0   \n",
       "4             1             0             0             0             0   \n",
       "\n",
       "   Response  Complain  Country  \n",
       "0         1         0       SP  \n",
       "1         1         0       CA  \n",
       "2         0         0       US  \n",
       "3         0         0      AUS  \n",
       "4         1         0       SP  \n",
       "\n",
       "[5 rows x 28 columns]"
      ]
     },
     "execution_count": 7,
     "metadata": {},
     "output_type": "execute_result"
    }
   ],
   "source": [
    "df.head()"
   ]
  },
  {
   "cell_type": "markdown",
   "metadata": {},
   "source": [
    "# 1.EDA"
   ]
  },
  {
   "cell_type": "code",
   "execution_count": 8,
   "metadata": {},
   "outputs": [
    {
     "data": {
      "text/plain": [
       "ID                      0\n",
       "Year_Birth              0\n",
       "Education               0\n",
       "Marital_Status          0\n",
       "Income                 24\n",
       "Kidhome                 0\n",
       "Teenhome                0\n",
       "Dt_Customer             0\n",
       "Recency                 0\n",
       "MntWines                0\n",
       "MntFruits               0\n",
       "MntMeatProducts         0\n",
       "MntFishProducts         0\n",
       "MntSweetProducts        0\n",
       "MntGoldProds            0\n",
       "NumDealsPurchases       0\n",
       "NumWebPurchases         0\n",
       "NumCatalogPurchases     0\n",
       "NumStorePurchases       0\n",
       "NumWebVisitsMonth       0\n",
       "AcceptedCmp3            0\n",
       "AcceptedCmp4            0\n",
       "AcceptedCmp5            0\n",
       "AcceptedCmp1            0\n",
       "AcceptedCmp2            0\n",
       "Response                0\n",
       "Complain                0\n",
       "Country                 0\n",
       "dtype: int64"
      ]
     },
     "execution_count": 8,
     "metadata": {},
     "output_type": "execute_result"
    }
   ],
   "source": [
    "df.isnull().sum()"
   ]
  },
  {
   "cell_type": "markdown",
   "metadata": {},
   "source": [
    "####  *There are 24 null values in Income coloumn (2216)\n",
    "#### *Dt_customer => change to date"
   ]
  },
  {
   "cell_type": "code",
   "execution_count": 9,
   "metadata": {},
   "outputs": [],
   "source": [
    "df['Dt_Customer'] = pd.to_datetime(df['Dt_Customer'])"
   ]
  },
  {
   "cell_type": "code",
   "execution_count": 10,
   "metadata": {},
   "outputs": [
    {
     "data": {
      "image/png": "[encoded data removed]",
      "text/plain": [
       "<Figure size 432x288 with 1 Axes>"
      ]
     },
     "metadata": {},
     "output_type": "display_data"
    }
   ],
   "source": [
    "#histogram of income\n",
    "df.Income.hist()\n",
    "plt.title('Income distribution', size=16)\n",
    "plt.xlabel('Income')\n",
    "plt.ylabel('count')\n",
    "plt.show()"
   ]
  },
  {
   "cell_type": "code",
   "execution_count": 11,
   "metadata": {},
   "outputs": [
    {
     "data": {
      "text/plain": [
       "<matplotlib.axes._subplots.AxesSubplot at 0x1aedbee8898>"
      ]
     },
     "execution_count": 11,
     "metadata": {},
     "output_type": "execute_result"
    },
    {
     "data": {
      "image/png": "[encoded data removed]",
      "text/plain": [
       "<Figure size 288x288 with 1 Axes>"
      ]
     },
     "metadata": {},
     "output_type": "display_data"
    }
   ],
   "source": [
    "df['Income'].plot(kind='box', figsize=(4,4), patch_artist=True)"
   ]
  },
  {
   "cell_type": "code",
   "execution_count": 12,
   "metadata": {},
   "outputs": [],
   "source": [
    "#As it is shown on the figure we have some outliers. To avoid to be effected from them, fill null values with the median value \n",
    "df['Income'] = df['Income'].fillna(df['Income'].median())"
   ]
  },
  {
   "cell_type": "markdown",
   "metadata": {},
   "source": [
    "### Determine Outliers"
   ]
  },
  {
   "cell_type": "code",
   "execution_count": 13,
   "metadata": {},
   "outputs": [
    {
     "data": {
      "image/png": "[encoded data removed]",
      "text/plain": [
       "<Figure size 1008x864 with 16 Axes>"
      ]
     },
     "metadata": {},
     "output_type": "display_data"
    }
   ],
   "source": [
    "df2 = df.drop(columns=['ID', 'AcceptedCmp1', 'AcceptedCmp2', 'AcceptedCmp3', 'AcceptedCmp4', 'AcceptedCmp5', 'Response', 'Complain']).select_dtypes(include=np.number)\n",
    "df2.plot(subplots=True, layout=(4,4), kind='box', figsize=(14,12), patch_artist=True)\n",
    "plt.subplots_adjust(wspace=0.5)\n",
    "#Some Year_Birth values are <1900. Drop them."
   ]
  },
  {
   "cell_type": "code",
   "execution_count": 14,
   "metadata": {},
   "outputs": [
    {
     "data": {
      "text/plain": [
       "<matplotlib.axes._subplots.AxesSubplot at 0x1aedc829390>"
      ]
     },
     "execution_count": 14,
     "metadata": {},
     "output_type": "execute_result"
    },
    {
     "data": {
      "image/png": "[encoded data removed]",
      "text/plain": [
       "<Figure size 288x288 with 1 Axes>"
      ]
     },
     "metadata": {},
     "output_type": "display_data"
    }
   ],
   "source": [
    "#get rid of outliers\n",
    "df = df[df['Year_Birth'] > 1900]\n",
    "df['Year_Birth'].plot(kind='box', figsize=(4,4), patch_artist=True)"
   ]
  },
  {
   "cell_type": "markdown",
   "metadata": {},
   "source": [
    "### Feature Engineering"
   ]
  },
  {
   "cell_type": "code",
   "execution_count": 15,
   "metadata": {},
   "outputs": [
    {
     "data": {
      "text/plain": [
       "Timestamp('2021-02-08 00:00:00')"
      ]
     },
     "execution_count": 15,
     "metadata": {},
     "output_type": "execute_result"
    }
   ],
   "source": [
    "today_date=pd.to_datetime('today').normalize()\n",
    "today_date"
   ]
  },
  {
   "cell_type": "markdown",
   "metadata": {},
   "source": [
    "#### Today date-Dt_customer=how many years with us\n",
    "#### Dt_customer-Year_Birth=Age when enrolled\n",
    "#### Total spending amount= Sum of all given amount\n",
    "#### Total purchases= Sum of all given purchases\n",
    "#### children=teenagers+kids\n",
    "#### add all campains inclusing the last one named 'Response'"
   ]
  },
  {
   "cell_type": "code",
   "execution_count": 16,
   "metadata": {},
   "outputs": [
    {
     "data": {
      "text/html": [
       "<div>\n",
       "<style scoped>\n",
       "    .dataframe tbody tr th:only-of-type {\n",
       "        vertical-align: middle;\n",
       "    }\n",
       "\n",
       "    .dataframe tbody tr th {\n",
       "        vertical-align: top;\n",
       "    }\n",
       "\n",
       "    .dataframe thead th {\n",
       "        text-align: right;\n",
       "    }\n",
       "</style>\n",
       "<table border=\"1\" class=\"dataframe\">\n",
       "  <thead>\n",
       "    <tr style=\"text-align: right;\">\n",
       "      <th></th>\n",
       "      <th>ID</th>\n",
       "      <th>days_together</th>\n",
       "      <th>age_of_enrollment</th>\n",
       "      <th>children</th>\n",
       "      <th>total_spent</th>\n",
       "      <th>total_purchases</th>\n",
       "      <th>total_campains</th>\n",
       "    </tr>\n",
       "  </thead>\n",
       "  <tbody>\n",
       "    <tr>\n",
       "      <th>0</th>\n",
       "      <td>1826</td>\n",
       "      <td>2429</td>\n",
       "      <td>44</td>\n",
       "      <td>0</td>\n",
       "      <td>1190</td>\n",
       "      <td>15</td>\n",
       "      <td>1</td>\n",
       "    </tr>\n",
       "    <tr>\n",
       "      <th>1</th>\n",
       "      <td>1</td>\n",
       "      <td>2430</td>\n",
       "      <td>53</td>\n",
       "      <td>0</td>\n",
       "      <td>577</td>\n",
       "      <td>18</td>\n",
       "      <td>2</td>\n",
       "    </tr>\n",
       "    <tr>\n",
       "      <th>2</th>\n",
       "      <td>10476</td>\n",
       "      <td>2463</td>\n",
       "      <td>56</td>\n",
       "      <td>1</td>\n",
       "      <td>251</td>\n",
       "      <td>11</td>\n",
       "      <td>0</td>\n",
       "    </tr>\n",
       "    <tr>\n",
       "      <th>3</th>\n",
       "      <td>1386</td>\n",
       "      <td>2465</td>\n",
       "      <td>47</td>\n",
       "      <td>2</td>\n",
       "      <td>11</td>\n",
       "      <td>4</td>\n",
       "      <td>0</td>\n",
       "    </tr>\n",
       "    <tr>\n",
       "      <th>4</th>\n",
       "      <td>5371</td>\n",
       "      <td>2498</td>\n",
       "      <td>25</td>\n",
       "      <td>1</td>\n",
       "      <td>91</td>\n",
       "      <td>8</td>\n",
       "      <td>2</td>\n",
       "    </tr>\n",
       "  </tbody>\n",
       "</table>\n",
       "</div>"
      ],
      "text/plain": [
       "      ID  days_together  age_of_enrollment  children  total_spent  \\\n",
       "0   1826           2429                 44         0         1190   \n",
       "1      1           2430                 53         0          577   \n",
       "2  10476           2463                 56         1          251   \n",
       "3   1386           2465                 47         2           11   \n",
       "4   5371           2498                 25         1           91   \n",
       "\n",
       "   total_purchases  total_campains  \n",
       "0               15               1  \n",
       "1               18               2  \n",
       "2               11               0  \n",
       "3                4               0  \n",
       "4                8               2  "
      ]
     },
     "execution_count": 16,
     "metadata": {},
     "output_type": "execute_result"
    }
   ],
   "source": [
    "df['days_together'] = (today_date - df['Dt_Customer']).dt.days\n",
    "df['age_of_enrollment'] = df['Dt_Customer'].dt.year - df['Year_Birth']\n",
    "df['children']=df['Kidhome']+df['Teenhome']\n",
    "df['total_spent'] = (df['MntFishProducts'] + df['MntWines'] + df['MntSweetProducts'] +df['MntFruits'] + df['MntMeatProducts'] + df['MntGoldProds'] )\n",
    "df['total_purchases'] = (df['NumDealsPurchases'] + df['NumWebPurchases'] + df['NumStorePurchases'] +df['NumCatalogPurchases'])\n",
    "\n",
    "campaigns = [col for col in df.columns if 'Cmp' in col] + ['Response']\n",
    "df['total_campains']=df[campaigns].sum(axis=1)\n",
    "\n",
    "df[['ID', 'days_together', 'age_of_enrollment', 'children', 'total_spent', 'total_purchases','total_campains']].head()"
   ]
  },
  {
   "cell_type": "code",
   "execution_count": 17,
   "metadata": {},
   "outputs": [
    {
     "name": "stdout",
     "output_type": "stream",
     "text": [
      "<class 'pandas.core.frame.DataFrame'>\n",
      "Int64Index: 2237 entries, 0 to 2239\n",
      "Data columns (total 34 columns):\n",
      " #   Column               Non-Null Count  Dtype         \n",
      "---  ------               --------------  -----         \n",
      " 0   ID                   2237 non-null   int64         \n",
      " 1   Year_Birth           2237 non-null   int64         \n",
      " 2   Education            2237 non-null   object        \n",
      " 3   Marital_Status       2237 non-null   object        \n",
      " 4   Income               2237 non-null   float64       \n",
      " 5   Kidhome              2237 non-null   int64         \n",
      " 6   Teenhome             2237 non-null   int64         \n",
      " 7   Dt_Customer          2237 non-null   datetime64[ns]\n",
      " 8   Recency              2237 non-null   int64         \n",
      " 9   MntWines             2237 non-null   int64         \n",
      " 10  MntFruits            2237 non-null   int64         \n",
      " 11  MntMeatProducts      2237 non-null   int64         \n",
      " 12  MntFishProducts      2237 non-null   int64         \n",
      " 13  MntSweetProducts     2237 non-null   int64         \n",
      " 14  MntGoldProds         2237 non-null   int64         \n",
      " 15  NumDealsPurchases    2237 non-null   int64         \n",
      " 16  NumWebPurchases      2237 non-null   int64         \n",
      " 17  NumCatalogPurchases  2237 non-null   int64         \n",
      " 18  NumStorePurchases    2237 non-null   int64         \n",
      " 19  NumWebVisitsMonth    2237 non-null   int64         \n",
      " 20  AcceptedCmp3         2237 non-null   int64         \n",
      " 21  AcceptedCmp4         2237 non-null   int64         \n",
      " 22  AcceptedCmp5         2237 non-null   int64         \n",
      " 23  AcceptedCmp1         2237 non-null   int64         \n",
      " 24  AcceptedCmp2         2237 non-null   int64         \n",
      " 25  Response             2237 non-null   int64         \n",
      " 26  Complain             2237 non-null   int64         \n",
      " 27  Country              2237 non-null   object        \n",
      " 28  days_together        2237 non-null   int64         \n",
      " 29  age_of_enrollment    2237 non-null   int64         \n",
      " 30  children             2237 non-null   int64         \n",
      " 31  total_spent          2237 non-null   int64         \n",
      " 32  total_purchases      2237 non-null   int64         \n",
      " 33  total_campains       2237 non-null   int64         \n",
      "dtypes: datetime64[ns](1), float64(1), int64(29), object(3)\n",
      "memory usage: 611.7+ KB\n"
     ]
    }
   ],
   "source": [
    "df.info()"
   ]
  },
  {
   "cell_type": "code",
   "execution_count": 18,
   "metadata": {},
   "outputs": [
    {
     "data": {
      "text/html": [
       "<div>\n",
       "<style scoped>\n",
       "    .dataframe tbody tr th:only-of-type {\n",
       "        vertical-align: middle;\n",
       "    }\n",
       "\n",
       "    .dataframe tbody tr th {\n",
       "        vertical-align: top;\n",
       "    }\n",
       "\n",
       "    .dataframe thead th {\n",
       "        text-align: right;\n",
       "    }\n",
       "</style>\n",
       "<table border=\"1\" class=\"dataframe\">\n",
       "  <thead>\n",
       "    <tr style=\"text-align: right;\">\n",
       "      <th></th>\n",
       "      <th>ID</th>\n",
       "      <th>Year_Birth</th>\n",
       "      <th>Income</th>\n",
       "      <th>Kidhome</th>\n",
       "      <th>Teenhome</th>\n",
       "      <th>Recency</th>\n",
       "      <th>MntWines</th>\n",
       "      <th>MntFruits</th>\n",
       "      <th>MntMeatProducts</th>\n",
       "      <th>MntFishProducts</th>\n",
       "      <th>...</th>\n",
       "      <th>AcceptedCmp1</th>\n",
       "      <th>AcceptedCmp2</th>\n",
       "      <th>Response</th>\n",
       "      <th>Complain</th>\n",
       "      <th>days_together</th>\n",
       "      <th>age_of_enrollment</th>\n",
       "      <th>children</th>\n",
       "      <th>total_spent</th>\n",
       "      <th>total_purchases</th>\n",
       "      <th>total_campains</th>\n",
       "    </tr>\n",
       "  </thead>\n",
       "  <tbody>\n",
       "    <tr>\n",
       "      <th>count</th>\n",
       "      <td>2237.000000</td>\n",
       "      <td>2237.000000</td>\n",
       "      <td>2237.000000</td>\n",
       "      <td>2237.000000</td>\n",
       "      <td>2237.000000</td>\n",
       "      <td>2237.000000</td>\n",
       "      <td>2237.000000</td>\n",
       "      <td>2237.000000</td>\n",
       "      <td>2237.000000</td>\n",
       "      <td>2237.000000</td>\n",
       "      <td>...</td>\n",
       "      <td>2237.000000</td>\n",
       "      <td>2237.000000</td>\n",
       "      <td>2237.000000</td>\n",
       "      <td>2237.000000</td>\n",
       "      <td>2237.000000</td>\n",
       "      <td>2237.000000</td>\n",
       "      <td>2237.000000</td>\n",
       "      <td>2237.000000</td>\n",
       "      <td>2237.000000</td>\n",
       "      <td>2237.000000</td>\n",
       "    </tr>\n",
       "    <tr>\n",
       "      <th>mean</th>\n",
       "      <td>5590.726419</td>\n",
       "      <td>1968.901654</td>\n",
       "      <td>52227.407689</td>\n",
       "      <td>0.444345</td>\n",
       "      <td>0.506482</td>\n",
       "      <td>49.104604</td>\n",
       "      <td>303.995530</td>\n",
       "      <td>26.270451</td>\n",
       "      <td>166.916853</td>\n",
       "      <td>37.523022</td>\n",
       "      <td>...</td>\n",
       "      <td>0.064372</td>\n",
       "      <td>0.013411</td>\n",
       "      <td>0.149307</td>\n",
       "      <td>0.008941</td>\n",
       "      <td>2769.790344</td>\n",
       "      <td>44.126062</td>\n",
       "      <td>0.950827</td>\n",
       "      <td>605.743406</td>\n",
       "      <td>14.870809</td>\n",
       "      <td>0.447027</td>\n",
       "    </tr>\n",
       "    <tr>\n",
       "      <th>std</th>\n",
       "      <td>3245.118591</td>\n",
       "      <td>11.701917</td>\n",
       "      <td>25043.266830</td>\n",
       "      <td>0.538467</td>\n",
       "      <td>0.544593</td>\n",
       "      <td>28.956073</td>\n",
       "      <td>336.574382</td>\n",
       "      <td>39.715972</td>\n",
       "      <td>225.661158</td>\n",
       "      <td>54.639909</td>\n",
       "      <td>...</td>\n",
       "      <td>0.245469</td>\n",
       "      <td>0.115052</td>\n",
       "      <td>0.356471</td>\n",
       "      <td>0.094152</td>\n",
       "      <td>202.137961</td>\n",
       "      <td>11.739008</td>\n",
       "      <td>0.752037</td>\n",
       "      <td>601.840466</td>\n",
       "      <td>7.676593</td>\n",
       "      <td>0.890964</td>\n",
       "    </tr>\n",
       "    <tr>\n",
       "      <th>min</th>\n",
       "      <td>0.000000</td>\n",
       "      <td>1940.000000</td>\n",
       "      <td>1730.000000</td>\n",
       "      <td>0.000000</td>\n",
       "      <td>0.000000</td>\n",
       "      <td>0.000000</td>\n",
       "      <td>0.000000</td>\n",
       "      <td>0.000000</td>\n",
       "      <td>0.000000</td>\n",
       "      <td>0.000000</td>\n",
       "      <td>...</td>\n",
       "      <td>0.000000</td>\n",
       "      <td>0.000000</td>\n",
       "      <td>0.000000</td>\n",
       "      <td>0.000000</td>\n",
       "      <td>2416.000000</td>\n",
       "      <td>16.000000</td>\n",
       "      <td>0.000000</td>\n",
       "      <td>5.000000</td>\n",
       "      <td>0.000000</td>\n",
       "      <td>0.000000</td>\n",
       "    </tr>\n",
       "    <tr>\n",
       "      <th>25%</th>\n",
       "      <td>2829.000000</td>\n",
       "      <td>1959.000000</td>\n",
       "      <td>35523.000000</td>\n",
       "      <td>0.000000</td>\n",
       "      <td>0.000000</td>\n",
       "      <td>24.000000</td>\n",
       "      <td>24.000000</td>\n",
       "      <td>1.000000</td>\n",
       "      <td>16.000000</td>\n",
       "      <td>3.000000</td>\n",
       "      <td>...</td>\n",
       "      <td>0.000000</td>\n",
       "      <td>0.000000</td>\n",
       "      <td>0.000000</td>\n",
       "      <td>0.000000</td>\n",
       "      <td>2597.000000</td>\n",
       "      <td>36.000000</td>\n",
       "      <td>0.000000</td>\n",
       "      <td>69.000000</td>\n",
       "      <td>8.000000</td>\n",
       "      <td>0.000000</td>\n",
       "    </tr>\n",
       "    <tr>\n",
       "      <th>50%</th>\n",
       "      <td>5455.000000</td>\n",
       "      <td>1970.000000</td>\n",
       "      <td>51381.500000</td>\n",
       "      <td>0.000000</td>\n",
       "      <td>0.000000</td>\n",
       "      <td>49.000000</td>\n",
       "      <td>174.000000</td>\n",
       "      <td>8.000000</td>\n",
       "      <td>67.000000</td>\n",
       "      <td>12.000000</td>\n",
       "      <td>...</td>\n",
       "      <td>0.000000</td>\n",
       "      <td>0.000000</td>\n",
       "      <td>0.000000</td>\n",
       "      <td>0.000000</td>\n",
       "      <td>2772.000000</td>\n",
       "      <td>43.000000</td>\n",
       "      <td>1.000000</td>\n",
       "      <td>396.000000</td>\n",
       "      <td>15.000000</td>\n",
       "      <td>0.000000</td>\n",
       "    </tr>\n",
       "    <tr>\n",
       "      <th>75%</th>\n",
       "      <td>8427.000000</td>\n",
       "      <td>1977.000000</td>\n",
       "      <td>68281.000000</td>\n",
       "      <td>1.000000</td>\n",
       "      <td>1.000000</td>\n",
       "      <td>74.000000</td>\n",
       "      <td>504.000000</td>\n",
       "      <td>33.000000</td>\n",
       "      <td>232.000000</td>\n",
       "      <td>50.000000</td>\n",
       "      <td>...</td>\n",
       "      <td>0.000000</td>\n",
       "      <td>0.000000</td>\n",
       "      <td>0.000000</td>\n",
       "      <td>0.000000</td>\n",
       "      <td>2945.000000</td>\n",
       "      <td>54.000000</td>\n",
       "      <td>1.000000</td>\n",
       "      <td>1045.000000</td>\n",
       "      <td>21.000000</td>\n",
       "      <td>1.000000</td>\n",
       "    </tr>\n",
       "    <tr>\n",
       "      <th>max</th>\n",
       "      <td>11191.000000</td>\n",
       "      <td>1996.000000</td>\n",
       "      <td>666666.000000</td>\n",
       "      <td>2.000000</td>\n",
       "      <td>2.000000</td>\n",
       "      <td>99.000000</td>\n",
       "      <td>1493.000000</td>\n",
       "      <td>199.000000</td>\n",
       "      <td>1725.000000</td>\n",
       "      <td>259.000000</td>\n",
       "      <td>...</td>\n",
       "      <td>1.000000</td>\n",
       "      <td>1.000000</td>\n",
       "      <td>1.000000</td>\n",
       "      <td>1.000000</td>\n",
       "      <td>3115.000000</td>\n",
       "      <td>73.000000</td>\n",
       "      <td>3.000000</td>\n",
       "      <td>2525.000000</td>\n",
       "      <td>44.000000</td>\n",
       "      <td>5.000000</td>\n",
       "    </tr>\n",
       "  </tbody>\n",
       "</table>\n",
       "<p>8 rows × 30 columns</p>\n",
       "</div>"
      ],
      "text/plain": [
       "                 ID   Year_Birth         Income      Kidhome     Teenhome  \\\n",
       "count   2237.000000  2237.000000    2237.000000  2237.000000  2237.000000   \n",
       "mean    5590.726419  1968.901654   52227.407689     0.444345     0.506482   \n",
       "std     3245.118591    11.701917   25043.266830     0.538467     0.544593   \n",
       "min        0.000000  1940.000000    1730.000000     0.000000     0.000000   \n",
       "25%     2829.000000  1959.000000   35523.000000     0.000000     0.000000   \n",
       "50%     5455.000000  1970.000000   51381.500000     0.000000     0.000000   \n",
       "75%     8427.000000  1977.000000   68281.000000     1.000000     1.000000   \n",
       "max    11191.000000  1996.000000  666666.000000     2.000000     2.000000   \n",
       "\n",
       "           Recency     MntWines    MntFruits  MntMeatProducts  \\\n",
       "count  2237.000000  2237.000000  2237.000000      2237.000000   \n",
       "mean     49.104604   303.995530    26.270451       166.916853   \n",
       "std      28.956073   336.574382    39.715972       225.661158   \n",
       "min       0.000000     0.000000     0.000000         0.000000   \n",
       "25%      24.000000    24.000000     1.000000        16.000000   \n",
       "50%      49.000000   174.000000     8.000000        67.000000   \n",
       "75%      74.000000   504.000000    33.000000       232.000000   \n",
       "max      99.000000  1493.000000   199.000000      1725.000000   \n",
       "\n",
       "       MntFishProducts  ...  AcceptedCmp1  AcceptedCmp2     Response  \\\n",
       "count      2237.000000  ...   2237.000000   2237.000000  2237.000000   \n",
       "mean         37.523022  ...      0.064372      0.013411     0.149307   \n",
       "std          54.639909  ...      0.245469      0.115052     0.356471   \n",
       "min           0.000000  ...      0.000000      0.000000     0.000000   \n",
       "25%           3.000000  ...      0.000000      0.000000     0.000000   \n",
       "50%          12.000000  ...      0.000000      0.000000     0.000000   \n",
       "75%          50.000000  ...      0.000000      0.000000     0.000000   \n",
       "max         259.000000  ...      1.000000      1.000000     1.000000   \n",
       "\n",
       "          Complain  days_together  age_of_enrollment     children  \\\n",
       "count  2237.000000    2237.000000        2237.000000  2237.000000   \n",
       "mean      0.008941    2769.790344          44.126062     0.950827   \n",
       "std       0.094152     202.137961          11.739008     0.752037   \n",
       "min       0.000000    2416.000000          16.000000     0.000000   \n",
       "25%       0.000000    2597.000000          36.000000     0.000000   \n",
       "50%       0.000000    2772.000000          43.000000     1.000000   \n",
       "75%       0.000000    2945.000000          54.000000     1.000000   \n",
       "max       1.000000    3115.000000          73.000000     3.000000   \n",
       "\n",
       "       total_spent  total_purchases  total_campains  \n",
       "count  2237.000000      2237.000000     2237.000000  \n",
       "mean    605.743406        14.870809        0.447027  \n",
       "std     601.840466         7.676593        0.890964  \n",
       "min       5.000000         0.000000        0.000000  \n",
       "25%      69.000000         8.000000        0.000000  \n",
       "50%     396.000000        15.000000        0.000000  \n",
       "75%    1045.000000        21.000000        1.000000  \n",
       "max    2525.000000        44.000000        5.000000  \n",
       "\n",
       "[8 rows x 30 columns]"
      ]
     },
     "execution_count": 18,
     "metadata": {},
     "output_type": "execute_result"
    }
   ],
   "source": [
    "df.describe()"
   ]
  },
  {
   "cell_type": "markdown",
   "metadata": {},
   "source": [
    "### Visualization of coloumns "
   ]
  },
  {
   "cell_type": "code",
   "execution_count": 19,
   "metadata": {},
   "outputs": [
    {
     "data": {
      "text/plain": [
       "<matplotlib.axes._subplots.AxesSubplot at 0x1aedc7fbc50>"
      ]
     },
     "execution_count": 19,
     "metadata": {},
     "output_type": "execute_result"
    },
    {
     "data": {
      "image/png": "[encoded data removed]",
      "text/plain": [
       "<Figure size 432x432 with 1 Axes>"
      ]
     },
     "metadata": {},
     "output_type": "display_data"
    }
   ],
   "source": [
    "plt.figure(figsize = (6, 6))\n",
    "sns.countplot(x = df['Education'], palette = 'pastel')"
   ]
  },
  {
   "cell_type": "code",
   "execution_count": 20,
   "metadata": {},
   "outputs": [
    {
     "data": {
      "text/plain": [
       "<seaborn.axisgrid.FacetGrid at 0x1aedcac0a20>"
      ]
     },
     "execution_count": 20,
     "metadata": {},
     "output_type": "execute_result"
    },
    {
     "data": {
      "image/png": "[encoded data removed]",
      "text/plain": [
       "<Figure size 360x360 with 1 Axes>"
      ]
     },
     "metadata": {},
     "output_type": "display_data"
    }
   ],
   "source": [
    "sns.catplot(x=\"Education\", y=\"Income\", data=df)"
   ]
  },
  {
   "cell_type": "code",
   "execution_count": 21,
   "metadata": {},
   "outputs": [
    {
     "data": {
      "image/png": "[encoded data removed]",
      "text/plain": [
       "<Figure size 432x432 with 1 Axes>"
      ]
     },
     "metadata": {},
     "output_type": "display_data"
    }
   ],
   "source": [
    "m = df['Marital_Status'].value_counts().to_frame('Count')\n",
    "sns.set_palette('pastel')\n",
    "plt.figure(figsize = (6, 6))\n",
    "plt.pie(m['Count'], labels = m.index, explode = (0.1, 0, 0, 0, 0, 1, 2.5, 4), shadow = True, autopct = '%1.1f%%')\n",
    "plt.show()"
   ]
  },
  {
   "cell_type": "code",
   "execution_count": 22,
   "metadata": {},
   "outputs": [
    {
     "data": {
      "text/plain": [
       "Text(0.5, 0, 'Customer Age When Enrolled')"
      ]
     },
     "execution_count": 22,
     "metadata": {},
     "output_type": "execute_result"
    },
    {
     "data": {
      "image/png": "[encoded data removed]",
      "text/plain": [
       "<Figure size 432x432 with 1 Axes>"
      ]
     },
     "metadata": {},
     "output_type": "display_data"
    }
   ],
   "source": [
    "plt.figure(figsize = (6, 6))\n",
    "sns.distplot(df['age_of_enrollment'], color = 'blue')\n",
    "plt.xlabel('Customer Age When Enrolled')"
   ]
  },
  {
   "cell_type": "code",
   "execution_count": 23,
   "metadata": {},
   "outputs": [
    {
     "data": {
      "text/plain": [
       "Text(0, 0.5, 'Number of Customer per country')"
      ]
     },
     "execution_count": 23,
     "metadata": {},
     "output_type": "execute_result"
    },
    {
     "data": {
      "image/png": "[encoded data removed]",
      "text/plain": [
       "<Figure size 432x432 with 1 Axes>"
      ]
     },
     "metadata": {},
     "output_type": "display_data"
    }
   ],
   "source": [
    "plt.figure(figsize = (6, 6))\n",
    "sns.countplot(x = df['Country'], palette = 'pastel')\n",
    "plt.ylabel('Number of Customer per country')"
   ]
  },
  {
   "cell_type": "code",
   "execution_count": 24,
   "metadata": {},
   "outputs": [
    {
     "data": {
      "text/plain": [
       "<matplotlib.axes._subplots.AxesSubplot at 0x1aedce8d3c8>"
      ]
     },
     "execution_count": 24,
     "metadata": {},
     "output_type": "execute_result"
    },
    {
     "data": {
      "image/png": "[encoded data removed]",
      "text/plain": [
       "<Figure size 432x288 with 1 Axes>"
      ]
     },
     "metadata": {},
     "output_type": "display_data"
    }
   ],
   "source": [
    "df.age_of_enrollment.hist()"
   ]
  },
  {
   "cell_type": "code",
   "execution_count": 25,
   "metadata": {},
   "outputs": [
    {
     "data": {
      "text/plain": [
       "<matplotlib.axes._subplots.AxesSubplot at 0x1aedded5198>"
      ]
     },
     "execution_count": 25,
     "metadata": {},
     "output_type": "execute_result"
    },
    {
     "data": {
      "image/png": "[encoded data removed]",
      "text/plain": [
       "<Figure size 432x288 with 1 Axes>"
      ]
     },
     "metadata": {},
     "output_type": "display_data"
    }
   ],
   "source": [
    "df.total_spent.hist()"
   ]
  },
  {
   "cell_type": "code",
   "execution_count": 26,
   "metadata": {},
   "outputs": [
    {
     "data": {
      "text/plain": [
       "<matplotlib.axes._subplots.AxesSubplot at 0x1aeddf4c160>"
      ]
     },
     "execution_count": 26,
     "metadata": {},
     "output_type": "execute_result"
    },
    {
     "data": {
      "image/png": "[encoded data removed]",
      "text/plain": [
       "<Figure size 432x288 with 1 Axes>"
      ]
     },
     "metadata": {},
     "output_type": "display_data"
    }
   ],
   "source": [
    "df.total_purchases.hist()"
   ]
  },
  {
   "cell_type": "code",
   "execution_count": 27,
   "metadata": {},
   "outputs": [
    {
     "data": {
      "text/plain": [
       "Ellipsis"
      ]
     },
     "execution_count": 27,
     "metadata": {},
     "output_type": "execute_result"
    }
   ],
   "source": [
    "..."
   ]
  },
  {
   "cell_type": "markdown",
   "metadata": {},
   "source": [
    "## Feature Correlation"
   ]
  },
  {
   "cell_type": "markdown",
   "metadata": {},
   "source": [
    "#### The correlations between our continous variables"
   ]
  },
  {
   "cell_type": "code",
   "execution_count": 28,
   "metadata": {},
   "outputs": [
    {
     "data": {
      "text/html": [
       "<div>\n",
       "<style scoped>\n",
       "    .dataframe tbody tr th:only-of-type {\n",
       "        vertical-align: middle;\n",
       "    }\n",
       "\n",
       "    .dataframe tbody tr th {\n",
       "        vertical-align: top;\n",
       "    }\n",
       "\n",
       "    .dataframe thead th {\n",
       "        text-align: right;\n",
       "    }\n",
       "</style>\n",
       "<table border=\"1\" class=\"dataframe\">\n",
       "  <thead>\n",
       "    <tr style=\"text-align: right;\">\n",
       "      <th></th>\n",
       "      <th>Income</th>\n",
       "      <th>days_together</th>\n",
       "      <th>age_of_enrollment</th>\n",
       "      <th>total_spent</th>\n",
       "      <th>total_purchases</th>\n",
       "      <th>total_campains</th>\n",
       "      <th>Recency</th>\n",
       "      <th>Complain</th>\n",
       "      <th>children</th>\n",
       "      <th>MntGoldProds</th>\n",
       "      <th>NumDealsPurchases</th>\n",
       "      <th>NumWebPurchases</th>\n",
       "      <th>NumCatalogPurchases</th>\n",
       "      <th>NumStorePurchases</th>\n",
       "      <th>NumWebVisitsMonth</th>\n",
       "    </tr>\n",
       "  </thead>\n",
       "  <tbody>\n",
       "    <tr>\n",
       "      <th>Income</th>\n",
       "      <td>1.000000</td>\n",
       "      <td>-0.018163</td>\n",
       "      <td>0.163129</td>\n",
       "      <td>0.664707</td>\n",
       "      <td>0.563999</td>\n",
       "      <td>0.286882</td>\n",
       "      <td>-0.003205</td>\n",
       "      <td>-0.024866</td>\n",
       "      <td>-0.290380</td>\n",
       "      <td>0.321082</td>\n",
       "      <td>-0.082089</td>\n",
       "      <td>0.380847</td>\n",
       "      <td>0.586750</td>\n",
       "      <td>0.527346</td>\n",
       "      <td>-0.549429</td>\n",
       "    </tr>\n",
       "    <tr>\n",
       "      <th>days_together</th>\n",
       "      <td>-0.018163</td>\n",
       "      <td>1.000000</td>\n",
       "      <td>-0.069556</td>\n",
       "      <td>0.158658</td>\n",
       "      <td>0.207024</td>\n",
       "      <td>0.068877</td>\n",
       "      <td>0.024157</td>\n",
       "      <td>0.035676</td>\n",
       "      <td>-0.025737</td>\n",
       "      <td>0.160123</td>\n",
       "      <td>0.218043</td>\n",
       "      <td>0.191169</td>\n",
       "      <td>0.095780</td>\n",
       "      <td>0.109635</td>\n",
       "      <td>0.272121</td>\n",
       "    </tr>\n",
       "    <tr>\n",
       "      <th>age_of_enrollment</th>\n",
       "      <td>0.163129</td>\n",
       "      <td>-0.069556</td>\n",
       "      <td>1.000000</td>\n",
       "      <td>0.105114</td>\n",
       "      <td>0.168609</td>\n",
       "      <td>-0.010393</td>\n",
       "      <td>0.018119</td>\n",
       "      <td>0.003026</td>\n",
       "      <td>0.097056</td>\n",
       "      <td>0.049109</td>\n",
       "      <td>0.056939</td>\n",
       "      <td>0.143763</td>\n",
       "      <td>0.120089</td>\n",
       "      <td>0.133385</td>\n",
       "      <td>-0.131750</td>\n",
       "    </tr>\n",
       "    <tr>\n",
       "      <th>total_spent</th>\n",
       "      <td>0.664707</td>\n",
       "      <td>0.158658</td>\n",
       "      <td>0.105114</td>\n",
       "      <td>1.000000</td>\n",
       "      <td>0.754390</td>\n",
       "      <td>0.455918</td>\n",
       "      <td>0.021199</td>\n",
       "      <td>-0.033740</td>\n",
       "      <td>-0.498514</td>\n",
       "      <td>0.522762</td>\n",
       "      <td>-0.065158</td>\n",
       "      <td>0.519993</td>\n",
       "      <td>0.778375</td>\n",
       "      <td>0.675573</td>\n",
       "      <td>-0.499922</td>\n",
       "    </tr>\n",
       "    <tr>\n",
       "      <th>total_purchases</th>\n",
       "      <td>0.563999</td>\n",
       "      <td>0.207024</td>\n",
       "      <td>0.168609</td>\n",
       "      <td>0.754390</td>\n",
       "      <td>1.000000</td>\n",
       "      <td>0.257708</td>\n",
       "      <td>0.006073</td>\n",
       "      <td>-0.015727</td>\n",
       "      <td>-0.245976</td>\n",
       "      <td>0.494361</td>\n",
       "      <td>0.361936</td>\n",
       "      <td>0.777634</td>\n",
       "      <td>0.735272</td>\n",
       "      <td>0.820089</td>\n",
       "      <td>-0.313162</td>\n",
       "    </tr>\n",
       "    <tr>\n",
       "      <th>total_campains</th>\n",
       "      <td>0.286882</td>\n",
       "      <td>0.068877</td>\n",
       "      <td>-0.010393</td>\n",
       "      <td>0.455918</td>\n",
       "      <td>0.257708</td>\n",
       "      <td>1.000000</td>\n",
       "      <td>-0.088749</td>\n",
       "      <td>-0.015677</td>\n",
       "      <td>-0.253522</td>\n",
       "      <td>0.202930</td>\n",
       "      <td>-0.093690</td>\n",
       "      <td>0.205126</td>\n",
       "      <td>0.351386</td>\n",
       "      <td>0.172876</td>\n",
       "      <td>-0.128092</td>\n",
       "    </tr>\n",
       "    <tr>\n",
       "      <th>Recency</th>\n",
       "      <td>-0.003205</td>\n",
       "      <td>0.024157</td>\n",
       "      <td>0.018119</td>\n",
       "      <td>0.021199</td>\n",
       "      <td>0.006073</td>\n",
       "      <td>-0.088749</td>\n",
       "      <td>1.000000</td>\n",
       "      <td>0.005398</td>\n",
       "      <td>0.017796</td>\n",
       "      <td>0.017412</td>\n",
       "      <td>-0.000987</td>\n",
       "      <td>-0.010616</td>\n",
       "      <td>0.025449</td>\n",
       "      <td>0.001117</td>\n",
       "      <td>-0.021959</td>\n",
       "    </tr>\n",
       "    <tr>\n",
       "      <th>Complain</th>\n",
       "      <td>-0.024866</td>\n",
       "      <td>0.035676</td>\n",
       "      <td>0.003026</td>\n",
       "      <td>-0.033740</td>\n",
       "      <td>-0.015727</td>\n",
       "      <td>-0.015677</td>\n",
       "      <td>0.005398</td>\n",
       "      <td>1.000000</td>\n",
       "      <td>0.031477</td>\n",
       "      <td>-0.029874</td>\n",
       "      <td>0.003599</td>\n",
       "      <td>-0.013233</td>\n",
       "      <td>-0.018279</td>\n",
       "      <td>-0.011524</td>\n",
       "      <td>0.020784</td>\n",
       "    </tr>\n",
       "    <tr>\n",
       "      <th>children</th>\n",
       "      <td>-0.290380</td>\n",
       "      <td>-0.025737</td>\n",
       "      <td>0.097056</td>\n",
       "      <td>-0.498514</td>\n",
       "      <td>-0.245976</td>\n",
       "      <td>-0.253522</td>\n",
       "      <td>0.017796</td>\n",
       "      <td>0.031477</td>\n",
       "      <td>1.000000</td>\n",
       "      <td>-0.264959</td>\n",
       "      <td>0.439633</td>\n",
       "      <td>-0.146435</td>\n",
       "      <td>-0.439615</td>\n",
       "      <td>-0.321701</td>\n",
       "      <td>0.417909</td>\n",
       "    </tr>\n",
       "    <tr>\n",
       "      <th>MntGoldProds</th>\n",
       "      <td>0.321082</td>\n",
       "      <td>0.160123</td>\n",
       "      <td>0.049109</td>\n",
       "      <td>0.522762</td>\n",
       "      <td>0.494361</td>\n",
       "      <td>0.202930</td>\n",
       "      <td>0.017412</td>\n",
       "      <td>-0.029874</td>\n",
       "      <td>-0.264959</td>\n",
       "      <td>1.000000</td>\n",
       "      <td>0.049942</td>\n",
       "      <td>0.422731</td>\n",
       "      <td>0.436997</td>\n",
       "      <td>0.383264</td>\n",
       "      <td>-0.249093</td>\n",
       "    </tr>\n",
       "    <tr>\n",
       "      <th>NumDealsPurchases</th>\n",
       "      <td>-0.082089</td>\n",
       "      <td>0.218043</td>\n",
       "      <td>0.056939</td>\n",
       "      <td>-0.065158</td>\n",
       "      <td>0.361936</td>\n",
       "      <td>-0.093690</td>\n",
       "      <td>-0.000987</td>\n",
       "      <td>0.003599</td>\n",
       "      <td>0.439633</td>\n",
       "      <td>0.049942</td>\n",
       "      <td>1.000000</td>\n",
       "      <td>0.233772</td>\n",
       "      <td>-0.008728</td>\n",
       "      <td>0.068062</td>\n",
       "      <td>0.347261</td>\n",
       "    </tr>\n",
       "    <tr>\n",
       "      <th>NumWebPurchases</th>\n",
       "      <td>0.380847</td>\n",
       "      <td>0.191169</td>\n",
       "      <td>0.143763</td>\n",
       "      <td>0.519993</td>\n",
       "      <td>0.777634</td>\n",
       "      <td>0.205126</td>\n",
       "      <td>-0.010616</td>\n",
       "      <td>-0.013233</td>\n",
       "      <td>-0.146435</td>\n",
       "      <td>0.422731</td>\n",
       "      <td>0.233772</td>\n",
       "      <td>1.000000</td>\n",
       "      <td>0.378108</td>\n",
       "      <td>0.502277</td>\n",
       "      <td>-0.056250</td>\n",
       "    </tr>\n",
       "    <tr>\n",
       "      <th>NumCatalogPurchases</th>\n",
       "      <td>0.586750</td>\n",
       "      <td>0.095780</td>\n",
       "      <td>0.120089</td>\n",
       "      <td>0.778375</td>\n",
       "      <td>0.735272</td>\n",
       "      <td>0.351386</td>\n",
       "      <td>0.025449</td>\n",
       "      <td>-0.018279</td>\n",
       "      <td>-0.439615</td>\n",
       "      <td>0.436997</td>\n",
       "      <td>-0.008728</td>\n",
       "      <td>0.378108</td>\n",
       "      <td>1.000000</td>\n",
       "      <td>0.518884</td>\n",
       "      <td>-0.520400</td>\n",
       "    </tr>\n",
       "    <tr>\n",
       "      <th>NumStorePurchases</th>\n",
       "      <td>0.527346</td>\n",
       "      <td>0.109635</td>\n",
       "      <td>0.133385</td>\n",
       "      <td>0.675573</td>\n",
       "      <td>0.820089</td>\n",
       "      <td>0.172876</td>\n",
       "      <td>0.001117</td>\n",
       "      <td>-0.011524</td>\n",
       "      <td>-0.321701</td>\n",
       "      <td>0.383264</td>\n",
       "      <td>0.068062</td>\n",
       "      <td>0.502277</td>\n",
       "      <td>0.518884</td>\n",
       "      <td>1.000000</td>\n",
       "      <td>-0.429886</td>\n",
       "    </tr>\n",
       "    <tr>\n",
       "      <th>NumWebVisitsMonth</th>\n",
       "      <td>-0.549429</td>\n",
       "      <td>0.272121</td>\n",
       "      <td>-0.131750</td>\n",
       "      <td>-0.499922</td>\n",
       "      <td>-0.313162</td>\n",
       "      <td>-0.128092</td>\n",
       "      <td>-0.021959</td>\n",
       "      <td>0.020784</td>\n",
       "      <td>0.417909</td>\n",
       "      <td>-0.249093</td>\n",
       "      <td>0.347261</td>\n",
       "      <td>-0.056250</td>\n",
       "      <td>-0.520400</td>\n",
       "      <td>-0.429886</td>\n",
       "      <td>1.000000</td>\n",
       "    </tr>\n",
       "  </tbody>\n",
       "</table>\n",
       "</div>"
      ],
      "text/plain": [
       "                       Income  days_together  age_of_enrollment  total_spent  \\\n",
       "Income               1.000000      -0.018163           0.163129     0.664707   \n",
       "days_together       -0.018163       1.000000          -0.069556     0.158658   \n",
       "age_of_enrollment    0.163129      -0.069556           1.000000     0.105114   \n",
       "total_spent          0.664707       0.158658           0.105114     1.000000   \n",
       "total_purchases      0.563999       0.207024           0.168609     0.754390   \n",
       "total_campains       0.286882       0.068877          -0.010393     0.455918   \n",
       "Recency             -0.003205       0.024157           0.018119     0.021199   \n",
       "Complain            -0.024866       0.035676           0.003026    -0.033740   \n",
       "children            -0.290380      -0.025737           0.097056    -0.498514   \n",
       "MntGoldProds         0.321082       0.160123           0.049109     0.522762   \n",
       "NumDealsPurchases   -0.082089       0.218043           0.056939    -0.065158   \n",
       "NumWebPurchases      0.380847       0.191169           0.143763     0.519993   \n",
       "NumCatalogPurchases  0.586750       0.095780           0.120089     0.778375   \n",
       "NumStorePurchases    0.527346       0.109635           0.133385     0.675573   \n",
       "NumWebVisitsMonth   -0.549429       0.272121          -0.131750    -0.499922   \n",
       "\n",
       "                     total_purchases  total_campains   Recency  Complain  \\\n",
       "Income                      0.563999        0.286882 -0.003205 -0.024866   \n",
       "days_together               0.207024        0.068877  0.024157  0.035676   \n",
       "age_of_enrollment           0.168609       -0.010393  0.018119  0.003026   \n",
       "total_spent                 0.754390        0.455918  0.021199 -0.033740   \n",
       "total_purchases             1.000000        0.257708  0.006073 -0.015727   \n",
       "total_campains              0.257708        1.000000 -0.088749 -0.015677   \n",
       "Recency                     0.006073       -0.088749  1.000000  0.005398   \n",
       "Complain                   -0.015727       -0.015677  0.005398  1.000000   \n",
       "children                   -0.245976       -0.253522  0.017796  0.031477   \n",
       "MntGoldProds                0.494361        0.202930  0.017412 -0.029874   \n",
       "NumDealsPurchases           0.361936       -0.093690 -0.000987  0.003599   \n",
       "NumWebPurchases             0.777634        0.205126 -0.010616 -0.013233   \n",
       "NumCatalogPurchases         0.735272        0.351386  0.025449 -0.018279   \n",
       "NumStorePurchases           0.820089        0.172876  0.001117 -0.011524   \n",
       "NumWebVisitsMonth          -0.313162       -0.128092 -0.021959  0.020784   \n",
       "\n",
       "                     children  MntGoldProds  NumDealsPurchases  \\\n",
       "Income              -0.290380      0.321082          -0.082089   \n",
       "days_together       -0.025737      0.160123           0.218043   \n",
       "age_of_enrollment    0.097056      0.049109           0.056939   \n",
       "total_spent         -0.498514      0.522762          -0.065158   \n",
       "total_purchases     -0.245976      0.494361           0.361936   \n",
       "total_campains      -0.253522      0.202930          -0.093690   \n",
       "Recency              0.017796      0.017412          -0.000987   \n",
       "Complain             0.031477     -0.029874           0.003599   \n",
       "children             1.000000     -0.264959           0.439633   \n",
       "MntGoldProds        -0.264959      1.000000           0.049942   \n",
       "NumDealsPurchases    0.439633      0.049942           1.000000   \n",
       "NumWebPurchases     -0.146435      0.422731           0.233772   \n",
       "NumCatalogPurchases -0.439615      0.436997          -0.008728   \n",
       "NumStorePurchases   -0.321701      0.383264           0.068062   \n",
       "NumWebVisitsMonth    0.417909     -0.249093           0.347261   \n",
       "\n",
       "                     NumWebPurchases  NumCatalogPurchases  NumStorePurchases  \\\n",
       "Income                      0.380847             0.586750           0.527346   \n",
       "days_together               0.191169             0.095780           0.109635   \n",
       "age_of_enrollment           0.143763             0.120089           0.133385   \n",
       "total_spent                 0.519993             0.778375           0.675573   \n",
       "total_purchases             0.777634             0.735272           0.820089   \n",
       "total_campains              0.205126             0.351386           0.172876   \n",
       "Recency                    -0.010616             0.025449           0.001117   \n",
       "Complain                   -0.013233            -0.018279          -0.011524   \n",
       "children                   -0.146435            -0.439615          -0.321701   \n",
       "MntGoldProds                0.422731             0.436997           0.383264   \n",
       "NumDealsPurchases           0.233772            -0.008728           0.068062   \n",
       "NumWebPurchases             1.000000             0.378108           0.502277   \n",
       "NumCatalogPurchases         0.378108             1.000000           0.518884   \n",
       "NumStorePurchases           0.502277             0.518884           1.000000   \n",
       "NumWebVisitsMonth          -0.056250            -0.520400          -0.429886   \n",
       "\n",
       "                     NumWebVisitsMonth  \n",
       "Income                       -0.549429  \n",
       "days_together                 0.272121  \n",
       "age_of_enrollment            -0.131750  \n",
       "total_spent                  -0.499922  \n",
       "total_purchases              -0.313162  \n",
       "total_campains               -0.128092  \n",
       "Recency                      -0.021959  \n",
       "Complain                      0.020784  \n",
       "children                      0.417909  \n",
       "MntGoldProds                 -0.249093  \n",
       "NumDealsPurchases             0.347261  \n",
       "NumWebPurchases              -0.056250  \n",
       "NumCatalogPurchases          -0.520400  \n",
       "NumStorePurchases            -0.429886  \n",
       "NumWebVisitsMonth             1.000000  "
      ]
     },
     "execution_count": 28,
     "metadata": {},
     "output_type": "execute_result"
    }
   ],
   "source": [
    "correlation=df[['Income','days_together','age_of_enrollment','total_spent','total_purchases','total_campains','Recency', 'Complain','children', 'MntGoldProds', 'NumDealsPurchases', 'NumWebPurchases',\n",
    "       'NumCatalogPurchases', 'NumStorePurchases', 'NumWebVisitsMonth']].corr()\n",
    "correlation"
   ]
  },
  {
   "cell_type": "code",
   "execution_count": 29,
   "metadata": {},
   "outputs": [
    {
     "data": {
      "text/plain": [
       "<matplotlib.axes._subplots.AxesSubplot at 0x1aeddec6898>"
      ]
     },
     "execution_count": 29,
     "metadata": {},
     "output_type": "execute_result"
    },
    {
     "data": {
      "image/png": "[encoded data removed]",
      "text/plain": [
       "<Figure size 432x288 with 2 Axes>"
      ]
     },
     "metadata": {},
     "output_type": "display_data"
    }
   ],
   "source": [
    "cmap=sns.cubehelix_palette(22,15,as_cmap=True)\n",
    "sns.heatmap(correlation.corr(),vmax=0.3,center=0, cmap=cmap,square=True)"
   ]
  },
  {
   "cell_type": "markdown",
   "metadata": {},
   "source": [
    "####  Assumptions:\n",
    "#### There is a clear collebration between Income and total_spent, total_purchases\n",
    "#### children and total_spent, total_purchases (negative)\n",
    "#### *determine relationship between campains and income\n",
    "#### *determine relationship between webvisits and web sells"
   ]
  },
  {
   "cell_type": "code",
   "execution_count": 30,
   "metadata": {},
   "outputs": [
    {
     "data": {
      "text/plain": [
       "<seaborn.axisgrid.FacetGrid at 0x1aeddf28b38>"
      ]
     },
     "execution_count": 30,
     "metadata": {},
     "output_type": "execute_result"
    },
    {
     "data": {
      "image/png": "[encoded data removed]",
      "text/plain": [
       "<Figure size 360x360 with 1 Axes>"
      ]
     },
     "metadata": {},
     "output_type": "display_data"
    }
   ],
   "source": [
    "sns.lmplot(x='Income', y='total_spent', data=df)"
   ]
  },
  {
   "cell_type": "code",
   "execution_count": 31,
   "metadata": {},
   "outputs": [
    {
     "data": {
      "text/plain": [
       "<seaborn.axisgrid.FacetGrid at 0x1aedc7c5eb8>"
      ]
     },
     "execution_count": 31,
     "metadata": {},
     "output_type": "execute_result"
    },
    {
     "data": {
      "image/png": "[encoded data removed]",
      "text/plain": [
       "<Figure size 360x360 with 1 Axes>"
      ]
     },
     "metadata": {},
     "output_type": "display_data"
    }
   ],
   "source": [
    "sns.lmplot(x='Income', y='total_purchases', data=df)"
   ]
  },
  {
   "cell_type": "code",
   "execution_count": 32,
   "metadata": {},
   "outputs": [
    {
     "data": {
      "text/plain": [
       "<seaborn.axisgrid.FacetGrid at 0x1aedbe98668>"
      ]
     },
     "execution_count": 32,
     "metadata": {},
     "output_type": "execute_result"
    },
    {
     "data": {
      "image/png": "[encoded data removed]",
      "text/plain": [
       "<Figure size 360x360 with 1 Axes>"
      ]
     },
     "metadata": {},
     "output_type": "display_data"
    }
   ],
   "source": [
    "sns.catplot(x=\"children\", y=\"total_spent\", data=df)\n",
    "#there is a negative correlation between chilren and total_spent"
   ]
  },
  {
   "cell_type": "code",
   "execution_count": 33,
   "metadata": {},
   "outputs": [
    {
     "data": {
      "text/plain": [
       "<seaborn.axisgrid.FacetGrid at 0x1aedc233c50>"
      ]
     },
     "execution_count": 33,
     "metadata": {},
     "output_type": "execute_result"
    },
    {
     "data": {
      "image/png": "[encoded data removed]",
      "text/plain": [
       "<Figure size 360x360 with 1 Axes>"
      ]
     },
     "metadata": {},
     "output_type": "display_data"
    }
   ],
   "source": [
    "sns.catplot(x=\"children\", y=\"total_purchases\", data=df)\n",
    "#there is a negative correlation between chilren and total_purchases"
   ]
  },
  {
   "cell_type": "code",
   "execution_count": 34,
   "metadata": {},
   "outputs": [
    {
     "data": {
      "text/plain": [
       "<seaborn.axisgrid.FacetGrid at 0x1aeddf7d588>"
      ]
     },
     "execution_count": 34,
     "metadata": {},
     "output_type": "execute_result"
    },
    {
     "data": {
      "image/png": "[encoded data removed]",
      "text/plain": [
       "<Figure size 360x360 with 1 Axes>"
      ]
     },
     "metadata": {},
     "output_type": "display_data"
    }
   ],
   "source": [
    "sns.catplot(x=\"total_campains\", y=\"Income\", data=df)\n",
    "#all campains accepted by the income range between 60000-100000"
   ]
  },
  {
   "cell_type": "code",
   "execution_count": 35,
   "metadata": {},
   "outputs": [
    {
     "data": {
      "text/plain": [
       "Index(['ID', 'Year_Birth', 'Education', 'Marital_Status', 'Income', 'Kidhome',\n",
       "       'Teenhome', 'Dt_Customer', 'Recency', 'MntWines', 'MntFruits',\n",
       "       'MntMeatProducts', 'MntFishProducts', 'MntSweetProducts',\n",
       "       'MntGoldProds', 'NumDealsPurchases', 'NumWebPurchases',\n",
       "       'NumCatalogPurchases', 'NumStorePurchases', 'NumWebVisitsMonth',\n",
       "       'AcceptedCmp3', 'AcceptedCmp4', 'AcceptedCmp5', 'AcceptedCmp1',\n",
       "       'AcceptedCmp2', 'Response', 'Complain', 'Country', 'days_together',\n",
       "       'age_of_enrollment', 'children', 'total_spent', 'total_purchases',\n",
       "       'total_campains'],\n",
       "      dtype='object')"
      ]
     },
     "execution_count": 35,
     "metadata": {},
     "output_type": "execute_result"
    }
   ],
   "source": [
    "df.columns"
   ]
  },
  {
   "cell_type": "code",
   "execution_count": 36,
   "metadata": {},
   "outputs": [
    {
     "data": {
      "text/plain": [
       "[Text(0, 0, 'NumDealsPurchases'),\n",
       " Text(0, 0, 'NumWebPurchases'),\n",
       " Text(0, 0, 'NumCatalogPurchases'),\n",
       " Text(0, 0, 'NumStorePurchases'),\n",
       " Text(0, 0, 'NumWebVisitsMonth')]"
      ]
     },
     "execution_count": 36,
     "metadata": {},
     "output_type": "execute_result"
    },
    {
     "data": {
      "image/png": "[encoded data removed]",
      "text/plain": [
       "<Figure size 432x288 with 1 Axes>"
      ]
     },
     "metadata": {},
     "output_type": "display_data"
    }
   ],
   "source": [
    "chart=df.boxplot(column=['NumDealsPurchases', 'NumWebPurchases','NumCatalogPurchases', 'NumStorePurchases', 'NumWebVisitsMonth'])\n",
    "chart.set_xticklabels(chart.get_xticklabels(), rotation=90)"
   ]
  },
  {
   "cell_type": "code",
   "execution_count": 37,
   "metadata": {},
   "outputs": [
    {
     "data": {
      "text/plain": [
       "<seaborn.axisgrid.FacetGrid at 0x1aedc2034a8>"
      ]
     },
     "execution_count": 37,
     "metadata": {},
     "output_type": "execute_result"
    },
    {
     "data": {
      "image/png": "[encoded data removed]",
      "text/plain": [
       "<Figure size 360x360 with 1 Axes>"
      ]
     },
     "metadata": {},
     "output_type": "display_data"
    }
   ],
   "source": [
    "sns.catplot(x=\"NumWebPurchases\", y=\"NumWebVisitsMonth\", data=df)\n",
    "#there is no correlation "
   ]
  },
  {
   "cell_type": "markdown",
   "metadata": {},
   "source": [
    "#### The correlations between our categorical variables"
   ]
  },
  {
   "cell_type": "code",
   "execution_count": 38,
   "metadata": {},
   "outputs": [
    {
     "data": {
      "text/plain": [
       "Index(['ID', 'Year_Birth', 'Education', 'Marital_Status', 'Income', 'Kidhome',\n",
       "       'Teenhome', 'Dt_Customer', 'Recency', 'MntWines', 'MntFruits',\n",
       "       'MntMeatProducts', 'MntFishProducts', 'MntSweetProducts',\n",
       "       'MntGoldProds', 'NumDealsPurchases', 'NumWebPurchases',\n",
       "       'NumCatalogPurchases', 'NumStorePurchases', 'NumWebVisitsMonth',\n",
       "       'AcceptedCmp3', 'AcceptedCmp4', 'AcceptedCmp5', 'AcceptedCmp1',\n",
       "       'AcceptedCmp2', 'Response', 'Complain', 'Country', 'days_together',\n",
       "       'age_of_enrollment', 'children', 'total_spent', 'total_purchases',\n",
       "       'total_campains'],\n",
       "      dtype='object')"
      ]
     },
     "execution_count": 38,
     "metadata": {},
     "output_type": "execute_result"
    }
   ],
   "source": [
    "df.columns"
   ]
  },
  {
   "cell_type": "code",
   "execution_count": 39,
   "metadata": {},
   "outputs": [
    {
     "data": {
      "text/html": [
       "<div>\n",
       "<style scoped>\n",
       "    .dataframe tbody tr th:only-of-type {\n",
       "        vertical-align: middle;\n",
       "    }\n",
       "\n",
       "    .dataframe tbody tr th {\n",
       "        vertical-align: top;\n",
       "    }\n",
       "\n",
       "    .dataframe thead th {\n",
       "        text-align: right;\n",
       "    }\n",
       "</style>\n",
       "<table border=\"1\" class=\"dataframe\">\n",
       "  <thead>\n",
       "    <tr style=\"text-align: right;\">\n",
       "      <th></th>\n",
       "      <th>Education</th>\n",
       "      <th>Marital_Status</th>\n",
       "      <th>Country</th>\n",
       "    </tr>\n",
       "  </thead>\n",
       "  <tbody>\n",
       "    <tr>\n",
       "      <th>0</th>\n",
       "      <td>Graduation</td>\n",
       "      <td>Divorced</td>\n",
       "      <td>SP</td>\n",
       "    </tr>\n",
       "    <tr>\n",
       "      <th>1</th>\n",
       "      <td>Graduation</td>\n",
       "      <td>Single</td>\n",
       "      <td>CA</td>\n",
       "    </tr>\n",
       "    <tr>\n",
       "      <th>2</th>\n",
       "      <td>Graduation</td>\n",
       "      <td>Married</td>\n",
       "      <td>US</td>\n",
       "    </tr>\n",
       "    <tr>\n",
       "      <th>3</th>\n",
       "      <td>Graduation</td>\n",
       "      <td>Together</td>\n",
       "      <td>AUS</td>\n",
       "    </tr>\n",
       "    <tr>\n",
       "      <th>4</th>\n",
       "      <td>Graduation</td>\n",
       "      <td>Single</td>\n",
       "      <td>SP</td>\n",
       "    </tr>\n",
       "    <tr>\n",
       "      <th>...</th>\n",
       "      <td>...</td>\n",
       "      <td>...</td>\n",
       "      <td>...</td>\n",
       "    </tr>\n",
       "    <tr>\n",
       "      <th>2235</th>\n",
       "      <td>PhD</td>\n",
       "      <td>Divorced</td>\n",
       "      <td>US</td>\n",
       "    </tr>\n",
       "    <tr>\n",
       "      <th>2236</th>\n",
       "      <td>2n Cycle</td>\n",
       "      <td>Married</td>\n",
       "      <td>SP</td>\n",
       "    </tr>\n",
       "    <tr>\n",
       "      <th>2237</th>\n",
       "      <td>Graduation</td>\n",
       "      <td>Divorced</td>\n",
       "      <td>SP</td>\n",
       "    </tr>\n",
       "    <tr>\n",
       "      <th>2238</th>\n",
       "      <td>Graduation</td>\n",
       "      <td>Married</td>\n",
       "      <td>IND</td>\n",
       "    </tr>\n",
       "    <tr>\n",
       "      <th>2239</th>\n",
       "      <td>PhD</td>\n",
       "      <td>Married</td>\n",
       "      <td>CA</td>\n",
       "    </tr>\n",
       "  </tbody>\n",
       "</table>\n",
       "<p>2237 rows × 3 columns</p>\n",
       "</div>"
      ],
      "text/plain": [
       "       Education Marital_Status Country\n",
       "0     Graduation       Divorced      SP\n",
       "1     Graduation         Single      CA\n",
       "2     Graduation        Married      US\n",
       "3     Graduation       Together     AUS\n",
       "4     Graduation         Single      SP\n",
       "...          ...            ...     ...\n",
       "2235         PhD       Divorced      US\n",
       "2236    2n Cycle        Married      SP\n",
       "2237  Graduation       Divorced      SP\n",
       "2238  Graduation        Married     IND\n",
       "2239         PhD        Married      CA\n",
       "\n",
       "[2237 rows x 3 columns]"
      ]
     },
     "execution_count": 39,
     "metadata": {},
     "output_type": "execute_result"
    }
   ],
   "source": [
    "df_cat=df[['Education', 'Marital_Status', 'Country' ]]\n",
    "df_cat"
   ]
  },
  {
   "cell_type": "code",
   "execution_count": 40,
   "metadata": {},
   "outputs": [
    {
     "name": "stdout",
     "output_type": "stream",
     "text": [
      "Graph for Education total: 5\n"
     ]
    },
    {
     "data": {
      "image/png": "[encoded data removed]",
      "text/plain": [
       "<Figure size 432x288 with 1 Axes>"
      ]
     },
     "metadata": {},
     "output_type": "display_data"
    },
    {
     "name": "stdout",
     "output_type": "stream",
     "text": [
      "Graph for Marital_Status total: 8\n"
     ]
    },
    {
     "data": {
      "image/png": "[encoded data removed]",
      "text/plain": [
       "<Figure size 432x288 with 1 Axes>"
      ]
     },
     "metadata": {},
     "output_type": "display_data"
    },
    {
     "name": "stdout",
     "output_type": "stream",
     "text": [
      "Graph for Country total: 8\n"
     ]
    },
    {
     "data": {
      "image/png": "[encoded data removed]",
      "text/plain": [
       "<Figure size 432x288 with 1 Axes>"
      ]
     },
     "metadata": {},
     "output_type": "display_data"
    }
   ],
   "source": [
    "for i in df_cat.columns:\n",
    "    cat_num=df_cat[i].value_counts()\n",
    "    print(\"Graph for %s total: %d\"%(i,len(cat_num)))\n",
    "    sns.barplot(x=cat_num.index, y=cat_num)\n",
    "    plt.show()"
   ]
  },
  {
   "cell_type": "code",
   "execution_count": 41,
   "metadata": {},
   "outputs": [
    {
     "data": {
      "text/plain": [
       "Index(['ID', 'Year_Birth', 'Education', 'Marital_Status', 'Income', 'Kidhome',\n",
       "       'Teenhome', 'Dt_Customer', 'Recency', 'MntWines', 'MntFruits',\n",
       "       'MntMeatProducts', 'MntFishProducts', 'MntSweetProducts',\n",
       "       'MntGoldProds', 'NumDealsPurchases', 'NumWebPurchases',\n",
       "       'NumCatalogPurchases', 'NumStorePurchases', 'NumWebVisitsMonth',\n",
       "       'AcceptedCmp3', 'AcceptedCmp4', 'AcceptedCmp5', 'AcceptedCmp1',\n",
       "       'AcceptedCmp2', 'Response', 'Complain', 'Country', 'days_together',\n",
       "       'age_of_enrollment', 'children', 'total_spent', 'total_purchases',\n",
       "       'total_campains'],\n",
       "      dtype='object')"
      ]
     },
     "execution_count": 41,
     "metadata": {},
     "output_type": "execute_result"
    }
   ],
   "source": [
    "df.columns"
   ]
  },
  {
   "cell_type": "markdown",
   "metadata": {},
   "source": [
    "## Determine Campain Success"
   ]
  },
  {
   "cell_type": "code",
   "execution_count": 42,
   "metadata": {},
   "outputs": [
    {
     "data": {
      "text/html": [
       "<div>\n",
       "<style scoped>\n",
       "    .dataframe tbody tr th:only-of-type {\n",
       "        vertical-align: middle;\n",
       "    }\n",
       "\n",
       "    .dataframe tbody tr th {\n",
       "        vertical-align: top;\n",
       "    }\n",
       "\n",
       "    .dataframe thead th {\n",
       "        text-align: right;\n",
       "    }\n",
       "</style>\n",
       "<table border=\"1\" class=\"dataframe\">\n",
       "  <thead>\n",
       "    <tr style=\"text-align: right;\">\n",
       "      <th></th>\n",
       "      <th>AcceptedCmp3</th>\n",
       "      <th>AcceptedCmp4</th>\n",
       "      <th>AcceptedCmp5</th>\n",
       "      <th>AcceptedCmp1</th>\n",
       "      <th>AcceptedCmp2</th>\n",
       "      <th>Response</th>\n",
       "    </tr>\n",
       "  </thead>\n",
       "  <tbody>\n",
       "    <tr>\n",
       "      <th>count</th>\n",
       "      <td>2237.000000</td>\n",
       "      <td>2237.000000</td>\n",
       "      <td>2237.000000</td>\n",
       "      <td>2237.000000</td>\n",
       "      <td>2237.000000</td>\n",
       "      <td>2237.000000</td>\n",
       "    </tr>\n",
       "    <tr>\n",
       "      <th>mean</th>\n",
       "      <td>0.072865</td>\n",
       "      <td>0.074654</td>\n",
       "      <td>0.072418</td>\n",
       "      <td>0.064372</td>\n",
       "      <td>0.013411</td>\n",
       "      <td>0.149307</td>\n",
       "    </tr>\n",
       "    <tr>\n",
       "      <th>std</th>\n",
       "      <td>0.259974</td>\n",
       "      <td>0.262890</td>\n",
       "      <td>0.259237</td>\n",
       "      <td>0.245469</td>\n",
       "      <td>0.115052</td>\n",
       "      <td>0.356471</td>\n",
       "    </tr>\n",
       "    <tr>\n",
       "      <th>min</th>\n",
       "      <td>0.000000</td>\n",
       "      <td>0.000000</td>\n",
       "      <td>0.000000</td>\n",
       "      <td>0.000000</td>\n",
       "      <td>0.000000</td>\n",
       "      <td>0.000000</td>\n",
       "    </tr>\n",
       "    <tr>\n",
       "      <th>25%</th>\n",
       "      <td>0.000000</td>\n",
       "      <td>0.000000</td>\n",
       "      <td>0.000000</td>\n",
       "      <td>0.000000</td>\n",
       "      <td>0.000000</td>\n",
       "      <td>0.000000</td>\n",
       "    </tr>\n",
       "    <tr>\n",
       "      <th>50%</th>\n",
       "      <td>0.000000</td>\n",
       "      <td>0.000000</td>\n",
       "      <td>0.000000</td>\n",
       "      <td>0.000000</td>\n",
       "      <td>0.000000</td>\n",
       "      <td>0.000000</td>\n",
       "    </tr>\n",
       "    <tr>\n",
       "      <th>75%</th>\n",
       "      <td>0.000000</td>\n",
       "      <td>0.000000</td>\n",
       "      <td>0.000000</td>\n",
       "      <td>0.000000</td>\n",
       "      <td>0.000000</td>\n",
       "      <td>0.000000</td>\n",
       "    </tr>\n",
       "    <tr>\n",
       "      <th>max</th>\n",
       "      <td>1.000000</td>\n",
       "      <td>1.000000</td>\n",
       "      <td>1.000000</td>\n",
       "      <td>1.000000</td>\n",
       "      <td>1.000000</td>\n",
       "      <td>1.000000</td>\n",
       "    </tr>\n",
       "  </tbody>\n",
       "</table>\n",
       "</div>"
      ],
      "text/plain": [
       "       AcceptedCmp3  AcceptedCmp4  AcceptedCmp5  AcceptedCmp1  AcceptedCmp2  \\\n",
       "count   2237.000000   2237.000000   2237.000000   2237.000000   2237.000000   \n",
       "mean       0.072865      0.074654      0.072418      0.064372      0.013411   \n",
       "std        0.259974      0.262890      0.259237      0.245469      0.115052   \n",
       "min        0.000000      0.000000      0.000000      0.000000      0.000000   \n",
       "25%        0.000000      0.000000      0.000000      0.000000      0.000000   \n",
       "50%        0.000000      0.000000      0.000000      0.000000      0.000000   \n",
       "75%        0.000000      0.000000      0.000000      0.000000      0.000000   \n",
       "max        1.000000      1.000000      1.000000      1.000000      1.000000   \n",
       "\n",
       "          Response  \n",
       "count  2237.000000  \n",
       "mean      0.149307  \n",
       "std       0.356471  \n",
       "min       0.000000  \n",
       "25%       0.000000  \n",
       "50%       0.000000  \n",
       "75%       0.000000  \n",
       "max       1.000000  "
      ]
     },
     "execution_count": 42,
     "metadata": {},
     "output_type": "execute_result"
    }
   ],
   "source": [
    "df_campains=df[['AcceptedCmp3', 'AcceptedCmp4', 'AcceptedCmp5', 'AcceptedCmp1','AcceptedCmp2', 'Response']]\n",
    "df_campains.describe()"
   ]
  },
  {
   "cell_type": "code",
   "execution_count": 43,
   "metadata": {},
   "outputs": [
    {
     "data": {
      "text/plain": [
       "<matplotlib.axes._subplots.AxesSubplot at 0x1aedc1a5a58>"
      ]
     },
     "execution_count": 43,
     "metadata": {},
     "output_type": "execute_result"
    },
    {
     "data": {
      "image/png": "[encoded data removed]",
      "text/plain": [
       "<Figure size 432x288 with 1 Axes>"
      ]
     },
     "metadata": {},
     "output_type": "display_data"
    }
   ],
   "source": [
    "cam_success = pd.DataFrame(df[['AcceptedCmp1', 'AcceptedCmp2', 'AcceptedCmp3', 'AcceptedCmp4', 'AcceptedCmp5', 'Response']].mean()*100, \n",
    "                           columns=['percent']).reset_index()\n",
    "sns.barplot(x='percent', y='index', data=cam_success.sort_values('percent'), palette='pastel')"
   ]
  },
  {
   "cell_type": "markdown",
   "metadata": {},
   "source": [
    "### Determine target customer"
   ]
  },
  {
   "cell_type": "markdown",
   "metadata": {},
   "source": [
    "####  We have seen that customers with less number of children has higher amont of purchase meanwhile customers with higher income has higher amount of purchase "
   ]
  },
  {
   "cell_type": "markdown",
   "metadata": {},
   "source": [
    "#### Target customer in order to increase the sales,\n",
    "\n",
    "#### Prefably has income between 50000-75000\n",
    "#### Has least amount of children. (0,1) possible.\n",
    "#### for enrollment, 44 years old.\n",
    "#### has income of approximately $52000\n",
    "#### was born in 1969\n",
    "#### made a purchase 49 days ago\n",
    "#### became customer 8 (2762 days) years ago"
   ]
  },
  {
   "cell_type": "code",
   "execution_count": 44,
   "metadata": {},
   "outputs": [
    {
     "data": {
      "text/html": [
       "<div>\n",
       "<style scoped>\n",
       "    .dataframe tbody tr th:only-of-type {\n",
       "        vertical-align: middle;\n",
       "    }\n",
       "\n",
       "    .dataframe tbody tr th {\n",
       "        vertical-align: top;\n",
       "    }\n",
       "\n",
       "    .dataframe thead th {\n",
       "        text-align: right;\n",
       "    }\n",
       "</style>\n",
       "<table border=\"1\" class=\"dataframe\">\n",
       "  <thead>\n",
       "    <tr style=\"text-align: right;\">\n",
       "      <th></th>\n",
       "      <th>Year_Birth</th>\n",
       "      <th>age_of_enrollment</th>\n",
       "      <th>Income</th>\n",
       "      <th>Recency</th>\n",
       "      <th>days_together</th>\n",
       "      <th>children</th>\n",
       "    </tr>\n",
       "  </thead>\n",
       "  <tbody>\n",
       "    <tr>\n",
       "      <th>count</th>\n",
       "      <td>2237.000000</td>\n",
       "      <td>2237.000000</td>\n",
       "      <td>2237.000000</td>\n",
       "      <td>2237.000000</td>\n",
       "      <td>2237.000000</td>\n",
       "      <td>2237.000000</td>\n",
       "    </tr>\n",
       "    <tr>\n",
       "      <th>mean</th>\n",
       "      <td>1968.901654</td>\n",
       "      <td>44.126062</td>\n",
       "      <td>52227.407689</td>\n",
       "      <td>49.104604</td>\n",
       "      <td>2769.790344</td>\n",
       "      <td>0.950827</td>\n",
       "    </tr>\n",
       "    <tr>\n",
       "      <th>std</th>\n",
       "      <td>11.701917</td>\n",
       "      <td>11.739008</td>\n",
       "      <td>25043.266830</td>\n",
       "      <td>28.956073</td>\n",
       "      <td>202.137961</td>\n",
       "      <td>0.752037</td>\n",
       "    </tr>\n",
       "    <tr>\n",
       "      <th>min</th>\n",
       "      <td>1940.000000</td>\n",
       "      <td>16.000000</td>\n",
       "      <td>1730.000000</td>\n",
       "      <td>0.000000</td>\n",
       "      <td>2416.000000</td>\n",
       "      <td>0.000000</td>\n",
       "    </tr>\n",
       "    <tr>\n",
       "      <th>25%</th>\n",
       "      <td>1959.000000</td>\n",
       "      <td>36.000000</td>\n",
       "      <td>35523.000000</td>\n",
       "      <td>24.000000</td>\n",
       "      <td>2597.000000</td>\n",
       "      <td>0.000000</td>\n",
       "    </tr>\n",
       "    <tr>\n",
       "      <th>50%</th>\n",
       "      <td>1970.000000</td>\n",
       "      <td>43.000000</td>\n",
       "      <td>51381.500000</td>\n",
       "      <td>49.000000</td>\n",
       "      <td>2772.000000</td>\n",
       "      <td>1.000000</td>\n",
       "    </tr>\n",
       "    <tr>\n",
       "      <th>75%</th>\n",
       "      <td>1977.000000</td>\n",
       "      <td>54.000000</td>\n",
       "      <td>68281.000000</td>\n",
       "      <td>74.000000</td>\n",
       "      <td>2945.000000</td>\n",
       "      <td>1.000000</td>\n",
       "    </tr>\n",
       "    <tr>\n",
       "      <th>max</th>\n",
       "      <td>1996.000000</td>\n",
       "      <td>73.000000</td>\n",
       "      <td>666666.000000</td>\n",
       "      <td>99.000000</td>\n",
       "      <td>3115.000000</td>\n",
       "      <td>3.000000</td>\n",
       "    </tr>\n",
       "  </tbody>\n",
       "</table>\n",
       "</div>"
      ],
      "text/plain": [
       "        Year_Birth  age_of_enrollment         Income      Recency  \\\n",
       "count  2237.000000        2237.000000    2237.000000  2237.000000   \n",
       "mean   1968.901654          44.126062   52227.407689    49.104604   \n",
       "std      11.701917          11.739008   25043.266830    28.956073   \n",
       "min    1940.000000          16.000000    1730.000000     0.000000   \n",
       "25%    1959.000000          36.000000   35523.000000    24.000000   \n",
       "50%    1970.000000          43.000000   51381.500000    49.000000   \n",
       "75%    1977.000000          54.000000   68281.000000    74.000000   \n",
       "max    1996.000000          73.000000  666666.000000    99.000000   \n",
       "\n",
       "       days_together     children  \n",
       "count    2237.000000  2237.000000  \n",
       "mean     2769.790344     0.950827  \n",
       "std       202.137961     0.752037  \n",
       "min      2416.000000     0.000000  \n",
       "25%      2597.000000     0.000000  \n",
       "50%      2772.000000     1.000000  \n",
       "75%      2945.000000     1.000000  \n",
       "max      3115.000000     3.000000  "
      ]
     },
     "execution_count": 44,
     "metadata": {},
     "output_type": "execute_result"
    }
   ],
   "source": [
    "df_channels=df[['Year_Birth', 'age_of_enrollment', 'Income', 'Recency','days_together','children']]\n",
    "df_channels.describe()"
   ]
  },
  {
   "cell_type": "markdown",
   "metadata": {},
   "source": [
    "## Determine Sales Channels Success for target customer"
   ]
  },
  {
   "cell_type": "code",
   "execution_count": 45,
   "metadata": {
    "scrolled": true
   },
   "outputs": [
    {
     "data": {
      "text/html": [
       "<div>\n",
       "<style scoped>\n",
       "    .dataframe tbody tr th:only-of-type {\n",
       "        vertical-align: middle;\n",
       "    }\n",
       "\n",
       "    .dataframe tbody tr th {\n",
       "        vertical-align: top;\n",
       "    }\n",
       "\n",
       "    .dataframe thead th {\n",
       "        text-align: right;\n",
       "    }\n",
       "</style>\n",
       "<table border=\"1\" class=\"dataframe\">\n",
       "  <thead>\n",
       "    <tr style=\"text-align: right;\">\n",
       "      <th></th>\n",
       "      <th>NumDealsPurchases</th>\n",
       "      <th>NumWebPurchases</th>\n",
       "      <th>NumCatalogPurchases</th>\n",
       "      <th>NumStorePurchases</th>\n",
       "    </tr>\n",
       "  </thead>\n",
       "  <tbody>\n",
       "    <tr>\n",
       "      <th>count</th>\n",
       "      <td>2237.000000</td>\n",
       "      <td>2237.000000</td>\n",
       "      <td>2237.000000</td>\n",
       "      <td>2237.000000</td>\n",
       "    </tr>\n",
       "    <tr>\n",
       "      <th>mean</th>\n",
       "      <td>2.326777</td>\n",
       "      <td>4.087170</td>\n",
       "      <td>2.662494</td>\n",
       "      <td>5.794367</td>\n",
       "    </tr>\n",
       "    <tr>\n",
       "      <th>std</th>\n",
       "      <td>1.932923</td>\n",
       "      <td>2.779461</td>\n",
       "      <td>2.923456</td>\n",
       "      <td>3.250940</td>\n",
       "    </tr>\n",
       "    <tr>\n",
       "      <th>min</th>\n",
       "      <td>0.000000</td>\n",
       "      <td>0.000000</td>\n",
       "      <td>0.000000</td>\n",
       "      <td>0.000000</td>\n",
       "    </tr>\n",
       "    <tr>\n",
       "      <th>25%</th>\n",
       "      <td>1.000000</td>\n",
       "      <td>2.000000</td>\n",
       "      <td>0.000000</td>\n",
       "      <td>3.000000</td>\n",
       "    </tr>\n",
       "    <tr>\n",
       "      <th>50%</th>\n",
       "      <td>2.000000</td>\n",
       "      <td>4.000000</td>\n",
       "      <td>2.000000</td>\n",
       "      <td>5.000000</td>\n",
       "    </tr>\n",
       "    <tr>\n",
       "      <th>75%</th>\n",
       "      <td>3.000000</td>\n",
       "      <td>6.000000</td>\n",
       "      <td>4.000000</td>\n",
       "      <td>8.000000</td>\n",
       "    </tr>\n",
       "    <tr>\n",
       "      <th>max</th>\n",
       "      <td>15.000000</td>\n",
       "      <td>27.000000</td>\n",
       "      <td>28.000000</td>\n",
       "      <td>13.000000</td>\n",
       "    </tr>\n",
       "  </tbody>\n",
       "</table>\n",
       "</div>"
      ],
      "text/plain": [
       "       NumDealsPurchases  NumWebPurchases  NumCatalogPurchases  \\\n",
       "count        2237.000000      2237.000000          2237.000000   \n",
       "mean            2.326777         4.087170             2.662494   \n",
       "std             1.932923         2.779461             2.923456   \n",
       "min             0.000000         0.000000             0.000000   \n",
       "25%             1.000000         2.000000             0.000000   \n",
       "50%             2.000000         4.000000             2.000000   \n",
       "75%             3.000000         6.000000             4.000000   \n",
       "max            15.000000        27.000000            28.000000   \n",
       "\n",
       "       NumStorePurchases  \n",
       "count        2237.000000  \n",
       "mean            5.794367  \n",
       "std             3.250940  \n",
       "min             0.000000  \n",
       "25%             3.000000  \n",
       "50%             5.000000  \n",
       "75%             8.000000  \n",
       "max            13.000000  "
      ]
     },
     "execution_count": 45,
     "metadata": {},
     "output_type": "execute_result"
    }
   ],
   "source": [
    "df_channels=df[['NumDealsPurchases', 'NumWebPurchases', 'NumCatalogPurchases', 'NumStorePurchases']]\n",
    "df_channels.describe()"
   ]
  },
  {
   "cell_type": "markdown",
   "metadata": {},
   "source": [
    "####  Target customer, \n",
    "#### made 2 deal purchase, 4 web purchase, made 2 catalog purchase, 5 store purchase\n",
    "#### visited web siste 5 times in a month"
   ]
  },
  {
   "cell_type": "markdown",
   "metadata": {},
   "source": [
    "## Compare sales performance of products"
   ]
  },
  {
   "cell_type": "code",
   "execution_count": 46,
   "metadata": {},
   "outputs": [
    {
     "data": {
      "text/html": [
       "<div>\n",
       "<style scoped>\n",
       "    .dataframe tbody tr th:only-of-type {\n",
       "        vertical-align: middle;\n",
       "    }\n",
       "\n",
       "    .dataframe tbody tr th {\n",
       "        vertical-align: top;\n",
       "    }\n",
       "\n",
       "    .dataframe thead th {\n",
       "        text-align: right;\n",
       "    }\n",
       "</style>\n",
       "<table border=\"1\" class=\"dataframe\">\n",
       "  <thead>\n",
       "    <tr style=\"text-align: right;\">\n",
       "      <th></th>\n",
       "      <th>MntWines</th>\n",
       "      <th>MntFruits</th>\n",
       "      <th>MntMeatProducts</th>\n",
       "      <th>MntFishProducts</th>\n",
       "      <th>MntSweetProducts</th>\n",
       "      <th>MntGoldProds</th>\n",
       "    </tr>\n",
       "  </thead>\n",
       "  <tbody>\n",
       "    <tr>\n",
       "      <th>count</th>\n",
       "      <td>2237.000000</td>\n",
       "      <td>2237.000000</td>\n",
       "      <td>2237.000000</td>\n",
       "      <td>2237.000000</td>\n",
       "      <td>2237.000000</td>\n",
       "      <td>2237.000000</td>\n",
       "    </tr>\n",
       "    <tr>\n",
       "      <th>mean</th>\n",
       "      <td>303.995530</td>\n",
       "      <td>26.270451</td>\n",
       "      <td>166.916853</td>\n",
       "      <td>37.523022</td>\n",
       "      <td>27.068842</td>\n",
       "      <td>43.968708</td>\n",
       "    </tr>\n",
       "    <tr>\n",
       "      <th>std</th>\n",
       "      <td>336.574382</td>\n",
       "      <td>39.715972</td>\n",
       "      <td>225.661158</td>\n",
       "      <td>54.639909</td>\n",
       "      <td>41.293949</td>\n",
       "      <td>52.054318</td>\n",
       "    </tr>\n",
       "    <tr>\n",
       "      <th>min</th>\n",
       "      <td>0.000000</td>\n",
       "      <td>0.000000</td>\n",
       "      <td>0.000000</td>\n",
       "      <td>0.000000</td>\n",
       "      <td>0.000000</td>\n",
       "      <td>0.000000</td>\n",
       "    </tr>\n",
       "    <tr>\n",
       "      <th>25%</th>\n",
       "      <td>24.000000</td>\n",
       "      <td>1.000000</td>\n",
       "      <td>16.000000</td>\n",
       "      <td>3.000000</td>\n",
       "      <td>1.000000</td>\n",
       "      <td>9.000000</td>\n",
       "    </tr>\n",
       "    <tr>\n",
       "      <th>50%</th>\n",
       "      <td>174.000000</td>\n",
       "      <td>8.000000</td>\n",
       "      <td>67.000000</td>\n",
       "      <td>12.000000</td>\n",
       "      <td>8.000000</td>\n",
       "      <td>24.000000</td>\n",
       "    </tr>\n",
       "    <tr>\n",
       "      <th>75%</th>\n",
       "      <td>504.000000</td>\n",
       "      <td>33.000000</td>\n",
       "      <td>232.000000</td>\n",
       "      <td>50.000000</td>\n",
       "      <td>33.000000</td>\n",
       "      <td>56.000000</td>\n",
       "    </tr>\n",
       "    <tr>\n",
       "      <th>max</th>\n",
       "      <td>1493.000000</td>\n",
       "      <td>199.000000</td>\n",
       "      <td>1725.000000</td>\n",
       "      <td>259.000000</td>\n",
       "      <td>263.000000</td>\n",
       "      <td>362.000000</td>\n",
       "    </tr>\n",
       "  </tbody>\n",
       "</table>\n",
       "</div>"
      ],
      "text/plain": [
       "          MntWines    MntFruits  MntMeatProducts  MntFishProducts  \\\n",
       "count  2237.000000  2237.000000      2237.000000      2237.000000   \n",
       "mean    303.995530    26.270451       166.916853        37.523022   \n",
       "std     336.574382    39.715972       225.661158        54.639909   \n",
       "min       0.000000     0.000000         0.000000         0.000000   \n",
       "25%      24.000000     1.000000        16.000000         3.000000   \n",
       "50%     174.000000     8.000000        67.000000        12.000000   \n",
       "75%     504.000000    33.000000       232.000000        50.000000   \n",
       "max    1493.000000   199.000000      1725.000000       259.000000   \n",
       "\n",
       "       MntSweetProducts  MntGoldProds  \n",
       "count       2237.000000   2237.000000  \n",
       "mean          27.068842     43.968708  \n",
       "std           41.293949     52.054318  \n",
       "min            0.000000      0.000000  \n",
       "25%            1.000000      9.000000  \n",
       "50%            8.000000     24.000000  \n",
       "75%           33.000000     56.000000  \n",
       "max          263.000000    362.000000  "
      ]
     },
     "execution_count": 46,
     "metadata": {},
     "output_type": "execute_result"
    }
   ],
   "source": [
    "df_products=df[['MntWines', 'MntFruits','MntMeatProducts', 'MntFishProducts', 'MntSweetProducts','MntGoldProds']]\n",
    "df_products.describe()"
   ]
  },
  {
   "cell_type": "markdown",
   "metadata": {},
   "source": [
    "####  Target customer spent,\n",
    "#### Over 300 Dollars on wines,\n",
    "#### 26 Dollars on Fruits and Sweet Products,\n",
    "#### 167 Dollars on Meat products,\n",
    "#### 37-43 Dollars on Fish and Gold Products."
   ]
  },
  {
   "cell_type": "markdown",
   "metadata": {},
   "source": [
    "# Conclusion"
   ]
  },
  {
   "cell_type": "markdown",
   "metadata": {},
   "source": [
    "####  Target customer profile, sales chanels and product preferences are determined.\n",
    "\n",
    "#### Advertising campaign acceptance is negatively correlated with childrean (kids/teens) and positively correlated with having income. Suggestion: Focus on group with high income and without children (or children<3)\n",
    "\n",
    "#### The most succesful sales channels were Store purchases and Web purchases. Suggestion: Specific campains for these channels to increase sales.\n",
    "\n",
    "#### The most successful products were Wines and Meats (customers spent on these products most). Suggestion: Specific campains for these products to increase sales.\n",
    "\n",
    "#### The most succesful campain was the last one. "
   ]
  },
  {
   "cell_type": "code",
   "execution_count": 47,
   "metadata": {},
   "outputs": [],
   "source": [
    "#Statistical Analysis-95% confidence interval on customer price, age, days_together, Recency and children\n",
    "\n",
    "import statsmodels.stats.api as sms"
   ]
  },
  {
   "cell_type": "code",
   "execution_count": 53,
   "metadata": {},
   "outputs": [
    {
     "data": {
      "text/plain": [
       "44.12606168976308"
      ]
     },
     "execution_count": 53,
     "metadata": {},
     "output_type": "execute_result"
    }
   ],
   "source": [
    "df.age_of_enrollment.mean()"
   ]
  },
  {
   "cell_type": "code",
   "execution_count": 54,
   "metadata": {},
   "outputs": [
    {
     "data": {
      "text/plain": [
       "(43.6393389271235, 44.61278445240266)"
      ]
     },
     "execution_count": 54,
     "metadata": {},
     "output_type": "execute_result"
    }
   ],
   "source": [
    "sms.DescrStatsW(df.age_of_enrollment).tconfint_mean()"
   ]
  },
  {
   "cell_type": "code",
   "execution_count": 55,
   "metadata": {},
   "outputs": [
    {
     "data": {
      "text/plain": [
       "(51189.063759038305, 53265.75161869973)"
      ]
     },
     "execution_count": 55,
     "metadata": {},
     "output_type": "execute_result"
    }
   ],
   "source": [
    "sms.DescrStatsW(df.Income).tconfint_mean()"
   ]
  },
  {
   "cell_type": "code",
   "execution_count": 56,
   "metadata": {},
   "outputs": [
    {
     "data": {
      "text/plain": [
       "(0.9196460473416803, 0.9820079535523742)"
      ]
     },
     "execution_count": 56,
     "metadata": {},
     "output_type": "execute_result"
    }
   ],
   "source": [
    "sms.DescrStatsW(df.children).tconfint_mean()"
   ]
  },
  {
   "cell_type": "code",
   "execution_count": 57,
   "metadata": {},
   "outputs": [
    {
     "data": {
      "text/plain": [
       "(2761.4093000736157, 2778.171388348378)"
      ]
     },
     "execution_count": 57,
     "metadata": {},
     "output_type": "execute_result"
    }
   ],
   "source": [
    "sms.DescrStatsW(df.days_together).tconfint_mean()"
   ]
  },
  {
   "cell_type": "code",
   "execution_count": 58,
   "metadata": {},
   "outputs": [
    {
     "data": {
      "text/plain": [
       "(47.90402767742579, 50.30518108430867)"
      ]
     },
     "execution_count": 58,
     "metadata": {},
     "output_type": "execute_result"
    }
   ],
   "source": [
    "sms.DescrStatsW(df.Recency).tconfint_mean()"
   ]
  }
 ],
 "metadata": {
  "kernelspec": {
   "display_name": "Python 3",
   "language": "python",
   "name": "python3"
  },
  "language_info": {
   "codemirror_mode": {
    "name": "ipython",
    "version": 3
   },
   "file_extension": ".py",
   "mimetype": "text/x-python",
   "name": "python",
   "nbconvert_exporter": "python",
   "pygments_lexer": "ipython3",
   "version": "3.7.3"
  }
 },
 "nbformat": 4,
 "nbformat_minor": 4
}
