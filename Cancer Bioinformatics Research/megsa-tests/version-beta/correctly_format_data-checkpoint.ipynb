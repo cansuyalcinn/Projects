{
 "cells": [
  {
   "cell_type": "code",
   "execution_count": 23,
   "metadata": {},
   "outputs": [],
   "source": [
    "### convert data into correct format\n",
    "import pandas as pd\n",
    "import os"
   ]
  },
  {
   "cell_type": "code",
   "execution_count": 26,
   "metadata": {},
   "outputs": [],
   "source": [
    "inpath = '../data/unformatted_results/'\n",
    "outpath = '../data/megsa_mutation_filtered_ep_data/'\n",
    "if not os.path.exists(outpath):\n",
    "    os.makedirs(outpath)\n",
    "\n",
    "suffix = '_megsa_result_mutations_all_genes_normal_20.txt'\n",
    "suffix_intact = '_pairs_normal_intact_filtered_subset20.txt'\n",
    "\n",
    "cancer_types = ['BRCA', 'BLCA', 'LUAD', 'LUSC']\n",
    "\n"
   ]
  },
  {
   "cell_type": "code",
   "execution_count": 27,
   "metadata": {},
   "outputs": [],
   "source": [
    "def format_data(infile):\n",
    "    df_unformatted = pd.read_csv(infile, sep='\\t',index_col=0)\n",
    "#     print(df_unformatted.head())\n",
    "    cols = list(df_unformatted.columns)\n",
    "    \n",
    "    a, b = cols.index('loglikelyhood'), cols.index('pvalue')\n",
    "    cols[b], cols[a] = cols[a], cols[b]\n",
    "    df = df_unformatted[cols]\n",
    "#     print(df.head())\n",
    "    return df"
   ]
  },
  {
   "cell_type": "code",
   "execution_count": 29,
   "metadata": {},
   "outputs": [
    {
     "name": "stdout",
     "output_type": "stream",
     "text": [
      "        gene1     gene2  pvalue  loglikelyhood\n",
      "0      ABCA13     ABCA8     0.5            0.0\n",
      "1      ABCA13  ADAMTSL3     0.5            0.0\n",
      "2      ABCA13      AFF2     0.5            0.0\n",
      "3      ABCA13    AHCTF1     0.5            0.0\n",
      "4      ABCA13     AHNAK     0.5            0.0\n",
      "...       ...       ...     ...            ...\n",
      "28198     ZAN     ZFHX4     0.5            0.0\n",
      "28199     ZAN    ZNF292     0.5            0.0\n",
      "28200   ZFHX3     ZFHX4     0.5            0.0\n",
      "28201   ZFHX3    ZNF292     0.5            0.0\n",
      "28202   ZFHX4    ZNF292     0.5            0.0\n",
      "\n",
      "[28203 rows x 4 columns]\n"
     ]
    }
   ],
   "source": [
    "for c in cancer_types:\n",
    "    if 1:#c == 'BRCA':\n",
    "        infile = inpath+c+suffix\n",
    "        infile_intact = inpath+c+suffix_intact\n",
    "\n",
    "        df = format_data(infile)\n",
    "        df_intact = format_data(infile_intact)\n",
    "        \n",
    "        print(df)\n",
    "        df.to_csv(outpath+c+suffix,sep='\\t')\n",
    "        df_intact.to_csv(outpath + c + suffix_intact,sep='\\t')\n",
    "        "
   ]
  },
  {
   "cell_type": "code",
   "execution_count": null,
   "metadata": {},
   "outputs": [],
   "source": []
  }
 ],
 "metadata": {
  "kernelspec": {
   "display_name": "Python 3",
   "language": "python",
   "name": "python3"
  },
  "language_info": {
   "codemirror_mode": {
    "name": "ipython",
    "version": 3
   },
   "file_extension": ".py",
   "mimetype": "text/x-python",
   "name": "python",
   "nbconvert_exporter": "python",
   "pygments_lexer": "ipython3",
   "version": "3.6.9"
  }
 },
 "nbformat": 4,
 "nbformat_minor": 2
}
