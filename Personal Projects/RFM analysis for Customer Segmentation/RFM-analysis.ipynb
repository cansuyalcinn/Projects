{
 "cells": [
  {
   "cell_type": "markdown",
   "metadata": {},
   "source": [
    "# Understanding the data"
   ]
  },
  {
   "cell_type": "markdown",
   "metadata": {},
   "source": [
    "Dataset: https://archive.ics.uci.edu/ml/datasets/Online+Retail+II\n",
    "\n",
    "The Online Retail II data set contains all the transactions occurring for a UK-based and registered, non-store online retail between 01/12/2009 and 09/12/2011.The company mainly sells unique all-occasion gift-ware. Many customers of the company are wholesalers.\n",
    "\n",
    "Coloums Features: \n",
    "\n",
    "* Invoice: Invoice number. Nominal. A 6-digit integral number uniquely assigned to each transaction. If this code starts with the letter 'c', it indicates a cancellation.\n",
    "* StockCode: Product (item) code. Nominal. A 5-digit integral number uniquely assigned to each distinct product.\n",
    "* Description: Product (item) name. Nominal.\n",
    "* Quantity: The quantities of each product (item) per transaction. Numeric.\n",
    "* InvoiceDate: Invice date and time. Numeric. The day and time when a transaction was generated.\n",
    "* Price: Unit price. Numeric. Product price per unit in sterling (Â£).\n",
    "* CustomerID: Customer number. Nominal. A 5-digit integral number uniquely assigned to each customer.\n",
    "* Country: Country name. Nominal. The name of the country where a customer resides."
   ]
  },
  {
   "cell_type": "markdown",
   "metadata": {},
   "source": [
    "# Data Loading"
   ]
  },
  {
   "cell_type": "code",
   "execution_count": 41,
   "metadata": {},
   "outputs": [],
   "source": [
    "# import necessary packages\n",
    "import pandas as pd\n",
    "import numpy as np\n",
    "import seaborn as sns\n",
    "import matplotlib.pyplot as plt\n",
    "import datetime as dt"
   ]
  },
  {
   "cell_type": "code",
   "execution_count": 4,
   "metadata": {},
   "outputs": [
    {
     "data": {
      "text/html": [
       "<div>\n",
       "<style scoped>\n",
       "    .dataframe tbody tr th:only-of-type {\n",
       "        vertical-align: middle;\n",
       "    }\n",
       "\n",
       "    .dataframe tbody tr th {\n",
       "        vertical-align: top;\n",
       "    }\n",
       "\n",
       "    .dataframe thead th {\n",
       "        text-align: right;\n",
       "    }\n",
       "</style>\n",
       "<table border=\"1\" class=\"dataframe\">\n",
       "  <thead>\n",
       "    <tr style=\"text-align: right;\">\n",
       "      <th></th>\n",
       "      <th>Invoice</th>\n",
       "      <th>StockCode</th>\n",
       "      <th>Description</th>\n",
       "      <th>Quantity</th>\n",
       "      <th>InvoiceDate</th>\n",
       "      <th>Price</th>\n",
       "      <th>Customer ID</th>\n",
       "      <th>Country</th>\n",
       "    </tr>\n",
       "  </thead>\n",
       "  <tbody>\n",
       "    <tr>\n",
       "      <th>0</th>\n",
       "      <td>489434</td>\n",
       "      <td>85048</td>\n",
       "      <td>15CM CHRISTMAS GLASS BALL 20 LIGHTS</td>\n",
       "      <td>12</td>\n",
       "      <td>2009-12-01 07:45:00</td>\n",
       "      <td>6.95</td>\n",
       "      <td>13085.0</td>\n",
       "      <td>United Kingdom</td>\n",
       "    </tr>\n",
       "    <tr>\n",
       "      <th>1</th>\n",
       "      <td>489434</td>\n",
       "      <td>79323P</td>\n",
       "      <td>PINK CHERRY LIGHTS</td>\n",
       "      <td>12</td>\n",
       "      <td>2009-12-01 07:45:00</td>\n",
       "      <td>6.75</td>\n",
       "      <td>13085.0</td>\n",
       "      <td>United Kingdom</td>\n",
       "    </tr>\n",
       "    <tr>\n",
       "      <th>2</th>\n",
       "      <td>489434</td>\n",
       "      <td>79323W</td>\n",
       "      <td>WHITE CHERRY LIGHTS</td>\n",
       "      <td>12</td>\n",
       "      <td>2009-12-01 07:45:00</td>\n",
       "      <td>6.75</td>\n",
       "      <td>13085.0</td>\n",
       "      <td>United Kingdom</td>\n",
       "    </tr>\n",
       "    <tr>\n",
       "      <th>3</th>\n",
       "      <td>489434</td>\n",
       "      <td>22041</td>\n",
       "      <td>RECORD FRAME 7\" SINGLE SIZE</td>\n",
       "      <td>48</td>\n",
       "      <td>2009-12-01 07:45:00</td>\n",
       "      <td>2.10</td>\n",
       "      <td>13085.0</td>\n",
       "      <td>United Kingdom</td>\n",
       "    </tr>\n",
       "    <tr>\n",
       "      <th>4</th>\n",
       "      <td>489434</td>\n",
       "      <td>21232</td>\n",
       "      <td>STRAWBERRY CERAMIC TRINKET BOX</td>\n",
       "      <td>24</td>\n",
       "      <td>2009-12-01 07:45:00</td>\n",
       "      <td>1.25</td>\n",
       "      <td>13085.0</td>\n",
       "      <td>United Kingdom</td>\n",
       "    </tr>\n",
       "  </tbody>\n",
       "</table>\n",
       "</div>"
      ],
      "text/plain": [
       "  Invoice StockCode                          Description  Quantity  \\\n",
       "0  489434     85048  15CM CHRISTMAS GLASS BALL 20 LIGHTS        12   \n",
       "1  489434    79323P                   PINK CHERRY LIGHTS        12   \n",
       "2  489434    79323W                  WHITE CHERRY LIGHTS        12   \n",
       "3  489434     22041         RECORD FRAME 7\" SINGLE SIZE         48   \n",
       "4  489434     21232       STRAWBERRY CERAMIC TRINKET BOX        24   \n",
       "\n",
       "          InvoiceDate  Price  Customer ID         Country  \n",
       "0 2009-12-01 07:45:00   6.95      13085.0  United Kingdom  \n",
       "1 2009-12-01 07:45:00   6.75      13085.0  United Kingdom  \n",
       "2 2009-12-01 07:45:00   6.75      13085.0  United Kingdom  \n",
       "3 2009-12-01 07:45:00   2.10      13085.0  United Kingdom  \n",
       "4 2009-12-01 07:45:00   1.25      13085.0  United Kingdom  "
      ]
     },
     "execution_count": 4,
     "metadata": {},
     "output_type": "execute_result"
    }
   ],
   "source": [
    "# to display all columns and rows:\n",
    "pd.set_option('display.max_columns', None); pd.set_option('display.max_rows', None);\n",
    "data = pd.read_excel(\"data/online_retail_II.xlsx\")\n",
    "data.head()"
   ]
  },
  {
   "cell_type": "code",
   "execution_count": 5,
   "metadata": {},
   "outputs": [],
   "source": [
    "#take the copy of the data\n",
    "df=data.copy()"
   ]
  },
  {
   "cell_type": "markdown",
   "metadata": {},
   "source": [
    "### Check the general information about dataset"
   ]
  },
  {
   "cell_type": "code",
   "execution_count": 6,
   "metadata": {},
   "outputs": [
    {
     "name": "stdout",
     "output_type": "stream",
     "text": [
      "<class 'pandas.core.frame.DataFrame'>\n",
      "RangeIndex: 525461 entries, 0 to 525460\n",
      "Data columns (total 8 columns):\n",
      " #   Column       Non-Null Count   Dtype         \n",
      "---  ------       --------------   -----         \n",
      " 0   Invoice      525461 non-null  object        \n",
      " 1   StockCode    525461 non-null  object        \n",
      " 2   Description  522533 non-null  object        \n",
      " 3   Quantity     525461 non-null  int64         \n",
      " 4   InvoiceDate  525461 non-null  datetime64[ns]\n",
      " 5   Price        525461 non-null  float64       \n",
      " 6   Customer ID  417534 non-null  float64       \n",
      " 7   Country      525461 non-null  object        \n",
      "dtypes: datetime64[ns](1), float64(2), int64(1), object(4)\n",
      "memory usage: 32.1+ MB\n"
     ]
    }
   ],
   "source": [
    "df.info()"
   ]
  },
  {
   "cell_type": "code",
   "execution_count": 7,
   "metadata": {},
   "outputs": [
    {
     "data": {
      "text/plain": [
       "Invoice             0\n",
       "StockCode           0\n",
       "Description      2928\n",
       "Quantity            0\n",
       "InvoiceDate         0\n",
       "Price               0\n",
       "Customer ID    107927\n",
       "Country             0\n",
       "dtype: int64"
      ]
     },
     "execution_count": 7,
     "metadata": {},
     "output_type": "execute_result"
    }
   ],
   "source": [
    "#check null values \n",
    "df.isnull().sum()"
   ]
  },
  {
   "cell_type": "code",
   "execution_count": 8,
   "metadata": {},
   "outputs": [
    {
     "data": {
      "text/plain": [
       "Invoice        28816\n",
       "StockCode       4632\n",
       "Description     4681\n",
       "Quantity         825\n",
       "InvoiceDate    25296\n",
       "Price           1606\n",
       "Customer ID     4383\n",
       "Country           40\n",
       "dtype: int64"
      ]
     },
     "execution_count": 8,
     "metadata": {},
     "output_type": "execute_result"
    }
   ],
   "source": [
    "#check unique numbers // number of unique customers or products.\n",
    "df.nunique()"
   ]
  },
  {
   "cell_type": "code",
   "execution_count": 9,
   "metadata": {},
   "outputs": [
    {
     "data": {
      "text/plain": [
       "85123A    3516\n",
       "22423     2221\n",
       "85099B    2057\n",
       "21212     1933\n",
       "21232     1843\n",
       "Name: StockCode, dtype: int64"
      ]
     },
     "execution_count": 9,
     "metadata": {},
     "output_type": "execute_result"
    }
   ],
   "source": [
    "#the top 5 most occured items.\n",
    "df[\"StockCode\"].value_counts().head()"
   ]
  },
  {
   "cell_type": "code",
   "execution_count": 10,
   "metadata": {},
   "outputs": [
    {
     "data": {
      "text/html": [
       "<div>\n",
       "<style scoped>\n",
       "    .dataframe tbody tr th:only-of-type {\n",
       "        vertical-align: middle;\n",
       "    }\n",
       "\n",
       "    .dataframe tbody tr th {\n",
       "        vertical-align: top;\n",
       "    }\n",
       "\n",
       "    .dataframe thead th {\n",
       "        text-align: right;\n",
       "    }\n",
       "</style>\n",
       "<table border=\"1\" class=\"dataframe\">\n",
       "  <thead>\n",
       "    <tr style=\"text-align: right;\">\n",
       "      <th></th>\n",
       "      <th>Quantity</th>\n",
       "    </tr>\n",
       "    <tr>\n",
       "      <th>StockCode</th>\n",
       "      <th></th>\n",
       "    </tr>\n",
       "  </thead>\n",
       "  <tbody>\n",
       "    <tr>\n",
       "      <th>21212</th>\n",
       "      <td>59411</td>\n",
       "    </tr>\n",
       "    <tr>\n",
       "      <th>85123A</th>\n",
       "      <td>57236</td>\n",
       "    </tr>\n",
       "    <tr>\n",
       "      <th>84077</th>\n",
       "      <td>54698</td>\n",
       "    </tr>\n",
       "    <tr>\n",
       "      <th>85099B</th>\n",
       "      <td>48376</td>\n",
       "    </tr>\n",
       "    <tr>\n",
       "      <th>17003</th>\n",
       "      <td>47647</td>\n",
       "    </tr>\n",
       "  </tbody>\n",
       "</table>\n",
       "</div>"
      ],
      "text/plain": [
       "           Quantity\n",
       "StockCode          \n",
       "21212         59411\n",
       "85123A        57236\n",
       "84077         54698\n",
       "85099B        48376\n",
       "17003         47647"
      ]
     },
     "execution_count": 10,
     "metadata": {},
     "output_type": "execute_result"
    }
   ],
   "source": [
    "# the most ordered items\n",
    "df.groupby(\"StockCode\").agg({\"Quantity\":\"sum\"}).sort_values(\"Quantity\", ascending = False).head()"
   ]
  },
  {
   "cell_type": "code",
   "execution_count": 11,
   "metadata": {},
   "outputs": [
    {
     "data": {
      "text/plain": [
       "United Kingdom    485852\n",
       "EIRE                9670\n",
       "Germany             8129\n",
       "France              5772\n",
       "Netherlands         2769\n",
       "Name: Country, dtype: int64"
      ]
     },
     "execution_count": 11,
     "metadata": {},
     "output_type": "execute_result"
    }
   ],
   "source": [
    "#number of orders from different countries\n",
    "df[\"Country\"].value_counts().head()"
   ]
  },
  {
   "cell_type": "code",
   "execution_count": 12,
   "metadata": {},
   "outputs": [
    {
     "data": {
      "text/plain": [
       "0     83.4\n",
       "1     81.0\n",
       "2     81.0\n",
       "3    100.8\n",
       "4     30.0\n",
       "Name: Total_price, dtype: float64"
      ]
     },
     "execution_count": 12,
     "metadata": {},
     "output_type": "execute_result"
    }
   ],
   "source": [
    "#unit price*quantity of order=Total_price\n",
    "df['Total_price']=df.Price*df.Quantity\n",
    "df['Total_price'].head()"
   ]
  },
  {
   "cell_type": "code",
   "execution_count": 13,
   "metadata": {},
   "outputs": [
    {
     "data": {
      "text/html": [
       "<div>\n",
       "<style scoped>\n",
       "    .dataframe tbody tr th:only-of-type {\n",
       "        vertical-align: middle;\n",
       "    }\n",
       "\n",
       "    .dataframe tbody tr th {\n",
       "        vertical-align: top;\n",
       "    }\n",
       "\n",
       "    .dataframe thead th {\n",
       "        text-align: right;\n",
       "    }\n",
       "</style>\n",
       "<table border=\"1\" class=\"dataframe\">\n",
       "  <thead>\n",
       "    <tr style=\"text-align: right;\">\n",
       "      <th></th>\n",
       "      <th>Total_price</th>\n",
       "    </tr>\n",
       "    <tr>\n",
       "      <th>Country</th>\n",
       "      <th></th>\n",
       "    </tr>\n",
       "  </thead>\n",
       "  <tbody>\n",
       "    <tr>\n",
       "      <th>United Kingdom</th>\n",
       "      <td>8.194778e+06</td>\n",
       "    </tr>\n",
       "    <tr>\n",
       "      <th>EIRE</th>\n",
       "      <td>3.522427e+05</td>\n",
       "    </tr>\n",
       "    <tr>\n",
       "      <th>Netherlands</th>\n",
       "      <td>2.638634e+05</td>\n",
       "    </tr>\n",
       "    <tr>\n",
       "      <th>Germany</th>\n",
       "      <td>1.962904e+05</td>\n",
       "    </tr>\n",
       "    <tr>\n",
       "      <th>France</th>\n",
       "      <td>1.307699e+05</td>\n",
       "    </tr>\n",
       "  </tbody>\n",
       "</table>\n",
       "</div>"
      ],
      "text/plain": [
       "                 Total_price\n",
       "Country                     \n",
       "United Kingdom  8.194778e+06\n",
       "EIRE            3.522427e+05\n",
       "Netherlands     2.638634e+05\n",
       "Germany         1.962904e+05\n",
       "France          1.307699e+05"
      ]
     },
     "execution_count": 13,
     "metadata": {},
     "output_type": "execute_result"
    }
   ],
   "source": [
    "#check which countries paid more.\n",
    "df.groupby(\"Country\").agg({\"Total_price\":\"sum\"}).sort_values(\"Total_price\", ascending = False).head()"
   ]
  },
  {
   "cell_type": "markdown",
   "metadata": {},
   "source": [
    "## Data Preprocessing"
   ]
  },
  {
   "cell_type": "code",
   "execution_count": 14,
   "metadata": {},
   "outputs": [
    {
     "data": {
      "text/plain": [
       "Invoice             0\n",
       "StockCode           0\n",
       "Description      2928\n",
       "Quantity            0\n",
       "InvoiceDate         0\n",
       "Price               0\n",
       "Customer ID    107927\n",
       "Country             0\n",
       "Total_price         0\n",
       "dtype: int64"
      ]
     },
     "execution_count": 14,
     "metadata": {},
     "output_type": "execute_result"
    }
   ],
   "source": [
    "# there are null values in description and customer ID \n",
    "df.isnull().sum()"
   ]
  },
  {
   "cell_type": "code",
   "execution_count": 15,
   "metadata": {},
   "outputs": [],
   "source": [
    "#drop null values.\n",
    "df.dropna(inplace=True)"
   ]
  },
  {
   "cell_type": "code",
   "execution_count": 16,
   "metadata": {},
   "outputs": [
    {
     "data": {
      "text/plain": [
       "Invoice        0\n",
       "StockCode      0\n",
       "Description    0\n",
       "Quantity       0\n",
       "InvoiceDate    0\n",
       "Price          0\n",
       "Customer ID    0\n",
       "Country        0\n",
       "Total_price    0\n",
       "dtype: int64"
      ]
     },
     "execution_count": 16,
     "metadata": {},
     "output_type": "execute_result"
    }
   ],
   "source": [
    "df.isnull().sum()"
   ]
  },
  {
   "cell_type": "code",
   "execution_count": 17,
   "metadata": {},
   "outputs": [],
   "source": [
    "# The cancelled invoices should be removed. \n",
    "delete =  df[df[\"Invoice\"].str.contains(\"C\", na=False)].index\n",
    "df = df.drop(delete, axis=0)"
   ]
  },
  {
   "cell_type": "code",
   "execution_count": 30,
   "metadata": {},
   "outputs": [
    {
     "data": {
      "text/html": [
       "<div>\n",
       "<style scoped>\n",
       "    .dataframe tbody tr th:only-of-type {\n",
       "        vertical-align: middle;\n",
       "    }\n",
       "\n",
       "    .dataframe tbody tr th {\n",
       "        vertical-align: top;\n",
       "    }\n",
       "\n",
       "    .dataframe thead th {\n",
       "        text-align: right;\n",
       "    }\n",
       "</style>\n",
       "<table border=\"1\" class=\"dataframe\">\n",
       "  <thead>\n",
       "    <tr style=\"text-align: right;\">\n",
       "      <th></th>\n",
       "      <th>count</th>\n",
       "      <th>mean</th>\n",
       "      <th>std</th>\n",
       "      <th>min</th>\n",
       "      <th>25%</th>\n",
       "      <th>50%</th>\n",
       "      <th>75%</th>\n",
       "      <th>max</th>\n",
       "    </tr>\n",
       "  </thead>\n",
       "  <tbody>\n",
       "    <tr>\n",
       "      <th>Quantity</th>\n",
       "      <td>407695.0</td>\n",
       "      <td>13.586686</td>\n",
       "      <td>96.842229</td>\n",
       "      <td>1.0</td>\n",
       "      <td>2.00</td>\n",
       "      <td>5.00</td>\n",
       "      <td>12.00</td>\n",
       "      <td>19152.0</td>\n",
       "    </tr>\n",
       "    <tr>\n",
       "      <th>Price</th>\n",
       "      <td>407695.0</td>\n",
       "      <td>3.294188</td>\n",
       "      <td>34.756655</td>\n",
       "      <td>0.0</td>\n",
       "      <td>1.25</td>\n",
       "      <td>1.95</td>\n",
       "      <td>3.75</td>\n",
       "      <td>10953.5</td>\n",
       "    </tr>\n",
       "    <tr>\n",
       "      <th>Customer ID</th>\n",
       "      <td>407695.0</td>\n",
       "      <td>15368.504107</td>\n",
       "      <td>1679.795700</td>\n",
       "      <td>12346.0</td>\n",
       "      <td>13997.00</td>\n",
       "      <td>15321.00</td>\n",
       "      <td>16812.00</td>\n",
       "      <td>18287.0</td>\n",
       "    </tr>\n",
       "    <tr>\n",
       "      <th>Total_price</th>\n",
       "      <td>407695.0</td>\n",
       "      <td>21.663261</td>\n",
       "      <td>77.147356</td>\n",
       "      <td>0.0</td>\n",
       "      <td>4.95</td>\n",
       "      <td>11.90</td>\n",
       "      <td>19.50</td>\n",
       "      <td>15818.4</td>\n",
       "    </tr>\n",
       "  </tbody>\n",
       "</table>\n",
       "</div>"
      ],
      "text/plain": [
       "                count          mean          std      min       25%       50%  \\\n",
       "Quantity     407695.0     13.586686    96.842229      1.0      2.00      5.00   \n",
       "Price        407695.0      3.294188    34.756655      0.0      1.25      1.95   \n",
       "Customer ID  407695.0  15368.504107  1679.795700  12346.0  13997.00  15321.00   \n",
       "Total_price  407695.0     21.663261    77.147356      0.0      4.95     11.90   \n",
       "\n",
       "                  75%      max  \n",
       "Quantity        12.00  19152.0  \n",
       "Price            3.75  10953.5  \n",
       "Customer ID  16812.00  18287.0  \n",
       "Total_price     19.50  15818.4  "
      ]
     },
     "execution_count": 30,
     "metadata": {},
     "output_type": "execute_result"
    }
   ],
   "source": [
    "df.describe().T"
   ]
  },
  {
   "cell_type": "code",
   "execution_count": 36,
   "metadata": {},
   "outputs": [
    {
     "data": {
      "image/png": "[encoded data removed]",
      "text/plain": [
       "<Figure size 1008x864 with 16 Axes>"
      ]
     },
     "metadata": {
      "needs_background": "light"
     },
     "output_type": "display_data"
    }
   ],
   "source": [
    "#check outliers in non unique coloumns.\n",
    "df2 = df.drop(columns=['Customer ID', 'Invoice']) \n",
    "df2.plot(subplots=True, layout=(4,4), kind='box', figsize=(14,12), patch_artist=True)\n",
    "plt.subplots_adjust(wspace=0.5)"
   ]
  },
  {
   "cell_type": "markdown",
   "metadata": {},
   "source": [
    "# Customer Segmentation Using RFM Analysis"
   ]
  },
  {
   "attachments": {
    "image.png": {
     "image/png": "[encoded data removed]"
    }
   },
   "cell_type": "markdown",
   "metadata": {},
   "source": [
    "RFM stands for Recency, Frequency, Monetary Value. The RFM analysis is the technique of customer segmentation based on their transaction history. It allows us to collect insights about consumer behaviour and optimize marketing strategy accordingly. In particular, one can leverage RFM to create personalized special offers to improve sales and decrease customer retention.\n",
    "\n",
    "The RFM analysis is based on three metrics, which measure different (but equally important) customer characteristics: How much time passed since the last purchase? (Recency), How many transactions were made? (Frequency), and How much money was spent?(Monetary Value). [1]\n",
    "\n",
    "![image.png](attachment:image.png)"
   ]
  },
  {
   "cell_type": "markdown",
   "metadata": {},
   "source": [
    "## Recency"
   ]
  },
  {
   "cell_type": "code",
   "execution_count": 38,
   "metadata": {},
   "outputs": [
    {
     "name": "stdout",
     "output_type": "stream",
     "text": [
      "<class 'pandas.core.frame.DataFrame'>\n",
      "Int64Index: 407695 entries, 0 to 525460\n",
      "Data columns (total 9 columns):\n",
      " #   Column       Non-Null Count   Dtype         \n",
      "---  ------       --------------   -----         \n",
      " 0   Invoice      407695 non-null  object        \n",
      " 1   StockCode    407695 non-null  object        \n",
      " 2   Description  407695 non-null  object        \n",
      " 3   Quantity     407695 non-null  int64         \n",
      " 4   InvoiceDate  407695 non-null  datetime64[ns]\n",
      " 5   Price        407695 non-null  float64       \n",
      " 6   Customer ID  407695 non-null  float64       \n",
      " 7   Country      407695 non-null  object        \n",
      " 8   Total_price  407695 non-null  float64       \n",
      "dtypes: datetime64[ns](1), float64(3), int64(1), object(4)\n",
      "memory usage: 31.1+ MB\n"
     ]
    }
   ],
   "source": [
    "df.info()"
   ]
  },
  {
   "cell_type": "code",
   "execution_count": 40,
   "metadata": {},
   "outputs": [
    {
     "data": {
      "text/plain": [
       "Timestamp('2010-12-09 20:01:00')"
      ]
     },
     "execution_count": 40,
     "metadata": {},
     "output_type": "execute_result"
    }
   ],
   "source": [
    "df[\"InvoiceDate\"].max()\n",
    "# This is the last transaction date"
   ]
  },
  {
   "cell_type": "code",
   "execution_count": 42,
   "metadata": {},
   "outputs": [],
   "source": [
    "#arrange today_date as 1 day later than the last transaction date\n",
    "today_date = dt.datetime(2011,12,10)"
   ]
  },
  {
   "cell_type": "code",
   "execution_count": 43,
   "metadata": {},
   "outputs": [
    {
     "data": {
      "text/html": [
       "<div>\n",
       "<style scoped>\n",
       "    .dataframe tbody tr th:only-of-type {\n",
       "        vertical-align: middle;\n",
       "    }\n",
       "\n",
       "    .dataframe tbody tr th {\n",
       "        vertical-align: top;\n",
       "    }\n",
       "\n",
       "    .dataframe thead th {\n",
       "        text-align: right;\n",
       "    }\n",
       "</style>\n",
       "<table border=\"1\" class=\"dataframe\">\n",
       "  <thead>\n",
       "    <tr style=\"text-align: right;\">\n",
       "      <th></th>\n",
       "      <th>InvoiceDate</th>\n",
       "    </tr>\n",
       "    <tr>\n",
       "      <th>Customer ID</th>\n",
       "      <th></th>\n",
       "    </tr>\n",
       "  </thead>\n",
       "  <tbody>\n",
       "    <tr>\n",
       "      <th>12346.0</th>\n",
       "      <td>2010-06-28 13:53:00</td>\n",
       "    </tr>\n",
       "    <tr>\n",
       "      <th>12347.0</th>\n",
       "      <td>2010-12-07 14:57:00</td>\n",
       "    </tr>\n",
       "    <tr>\n",
       "      <th>12348.0</th>\n",
       "      <td>2010-09-27 14:59:00</td>\n",
       "    </tr>\n",
       "    <tr>\n",
       "      <th>12349.0</th>\n",
       "      <td>2010-10-28 08:23:00</td>\n",
       "    </tr>\n",
       "    <tr>\n",
       "      <th>12351.0</th>\n",
       "      <td>2010-11-29 15:23:00</td>\n",
       "    </tr>\n",
       "  </tbody>\n",
       "</table>\n",
       "</div>"
      ],
      "text/plain": [
       "                    InvoiceDate\n",
       "Customer ID                    \n",
       "12346.0     2010-06-28 13:53:00\n",
       "12347.0     2010-12-07 14:57:00\n",
       "12348.0     2010-09-27 14:59:00\n",
       "12349.0     2010-10-28 08:23:00\n",
       "12351.0     2010-11-29 15:23:00"
      ]
     },
     "execution_count": 43,
     "metadata": {},
     "output_type": "execute_result"
    }
   ],
   "source": [
    "# the last transaction dates for each customer\n",
    "df.groupby(\"Customer ID\").agg({\"InvoiceDate\":\"max\"}).head()"
   ]
  },
  {
   "cell_type": "code",
   "execution_count": 58,
   "metadata": {},
   "outputs": [
    {
     "data": {
      "text/html": [
       "<div>\n",
       "<style scoped>\n",
       "    .dataframe tbody tr th:only-of-type {\n",
       "        vertical-align: middle;\n",
       "    }\n",
       "\n",
       "    .dataframe tbody tr th {\n",
       "        vertical-align: top;\n",
       "    }\n",
       "\n",
       "    .dataframe thead th {\n",
       "        text-align: right;\n",
       "    }\n",
       "</style>\n",
       "<table border=\"1\" class=\"dataframe\">\n",
       "  <thead>\n",
       "    <tr style=\"text-align: right;\">\n",
       "      <th></th>\n",
       "      <th>Recency</th>\n",
       "    </tr>\n",
       "    <tr>\n",
       "      <th>Customer ID</th>\n",
       "      <th></th>\n",
       "    </tr>\n",
       "  </thead>\n",
       "  <tbody>\n",
       "    <tr>\n",
       "      <th>12346.0</th>\n",
       "      <td>529</td>\n",
       "    </tr>\n",
       "    <tr>\n",
       "      <th>12347.0</th>\n",
       "      <td>367</td>\n",
       "    </tr>\n",
       "    <tr>\n",
       "      <th>12348.0</th>\n",
       "      <td>438</td>\n",
       "    </tr>\n",
       "    <tr>\n",
       "      <th>12349.0</th>\n",
       "      <td>407</td>\n",
       "    </tr>\n",
       "    <tr>\n",
       "      <th>12351.0</th>\n",
       "      <td>375</td>\n",
       "    </tr>\n",
       "  </tbody>\n",
       "</table>\n",
       "</div>"
      ],
      "text/plain": [
       "             Recency\n",
       "Customer ID         \n",
       "12346.0          529\n",
       "12347.0          367\n",
       "12348.0          438\n",
       "12349.0          407\n",
       "12351.0          375"
      ]
     },
     "execution_count": 58,
     "metadata": {},
     "output_type": "execute_result"
    }
   ],
   "source": [
    "#Calculate recency values for each customer based on their unique ID's.\n",
    "recency = df.groupby('Customer ID').agg({'InvoiceDate': lambda date: (today_date - date.max()).days})\n",
    "recency.rename(columns={\"InvoiceDate\": \"Recency\"}, inplace = True)\n",
    "recency.head()"
   ]
  },
  {
   "cell_type": "markdown",
   "metadata": {},
   "source": [
    "## Frequency"
   ]
  },
  {
   "cell_type": "markdown",
   "metadata": {},
   "source": [
    "The Frequency can be determined as \"How many transactions were made?\". \n",
    "\n",
    "Since Invoice determined as A 6-digit integral number uniquely assigned to each transaction, we need to count number of unique transactions. "
   ]
  },
  {
   "cell_type": "code",
   "execution_count": 61,
   "metadata": {},
   "outputs": [
    {
     "data": {
      "text/html": [
       "<div>\n",
       "<style scoped>\n",
       "    .dataframe tbody tr th:only-of-type {\n",
       "        vertical-align: middle;\n",
       "    }\n",
       "\n",
       "    .dataframe tbody tr th {\n",
       "        vertical-align: top;\n",
       "    }\n",
       "\n",
       "    .dataframe thead th {\n",
       "        text-align: right;\n",
       "    }\n",
       "</style>\n",
       "<table border=\"1\" class=\"dataframe\">\n",
       "  <thead>\n",
       "    <tr style=\"text-align: right;\">\n",
       "      <th></th>\n",
       "      <th>Frequency</th>\n",
       "    </tr>\n",
       "    <tr>\n",
       "      <th>Customer ID</th>\n",
       "      <th></th>\n",
       "    </tr>\n",
       "  </thead>\n",
       "  <tbody>\n",
       "    <tr>\n",
       "      <th>12346.0</th>\n",
       "      <td>11</td>\n",
       "    </tr>\n",
       "    <tr>\n",
       "      <th>12347.0</th>\n",
       "      <td>2</td>\n",
       "    </tr>\n",
       "    <tr>\n",
       "      <th>12348.0</th>\n",
       "      <td>1</td>\n",
       "    </tr>\n",
       "    <tr>\n",
       "      <th>12349.0</th>\n",
       "      <td>3</td>\n",
       "    </tr>\n",
       "    <tr>\n",
       "      <th>12351.0</th>\n",
       "      <td>1</td>\n",
       "    </tr>\n",
       "  </tbody>\n",
       "</table>\n",
       "</div>"
      ],
      "text/plain": [
       "             Frequency\n",
       "Customer ID           \n",
       "12346.0             11\n",
       "12347.0              2\n",
       "12348.0              1\n",
       "12349.0              3\n",
       "12351.0              1"
      ]
     },
     "execution_count": 61,
     "metadata": {},
     "output_type": "execute_result"
    }
   ],
   "source": [
    "frequency = df.groupby('Customer ID').agg({'Invoice': lambda num: num.nunique()})\n",
    "frequency.rename(columns={\"Invoice\": \"Frequency\"}, inplace = True)\n",
    "frequency.head()"
   ]
  },
  {
   "cell_type": "markdown",
   "metadata": {},
   "source": [
    "## Monetary"
   ]
  },
  {
   "cell_type": "markdown",
   "metadata": {},
   "source": [
    "The Monetary can be determined as \"How much money was spent?\"\n",
    "\n",
    "We need to use the coloumn Total_price determined as quantity*price for each customer. "
   ]
  },
  {
   "cell_type": "code",
   "execution_count": 63,
   "metadata": {},
   "outputs": [
    {
     "data": {
      "text/html": [
       "<div>\n",
       "<style scoped>\n",
       "    .dataframe tbody tr th:only-of-type {\n",
       "        vertical-align: middle;\n",
       "    }\n",
       "\n",
       "    .dataframe tbody tr th {\n",
       "        vertical-align: top;\n",
       "    }\n",
       "\n",
       "    .dataframe thead th {\n",
       "        text-align: right;\n",
       "    }\n",
       "</style>\n",
       "<table border=\"1\" class=\"dataframe\">\n",
       "  <thead>\n",
       "    <tr style=\"text-align: right;\">\n",
       "      <th></th>\n",
       "      <th>Monetary</th>\n",
       "    </tr>\n",
       "    <tr>\n",
       "      <th>Customer ID</th>\n",
       "      <th></th>\n",
       "    </tr>\n",
       "  </thead>\n",
       "  <tbody>\n",
       "    <tr>\n",
       "      <th>12346.0</th>\n",
       "      <td>372.86</td>\n",
       "    </tr>\n",
       "    <tr>\n",
       "      <th>12347.0</th>\n",
       "      <td>1323.32</td>\n",
       "    </tr>\n",
       "    <tr>\n",
       "      <th>12348.0</th>\n",
       "      <td>222.16</td>\n",
       "    </tr>\n",
       "    <tr>\n",
       "      <th>12349.0</th>\n",
       "      <td>2671.14</td>\n",
       "    </tr>\n",
       "    <tr>\n",
       "      <th>12351.0</th>\n",
       "      <td>300.93</td>\n",
       "    </tr>\n",
       "  </tbody>\n",
       "</table>\n",
       "</div>"
      ],
      "text/plain": [
       "             Monetary\n",
       "Customer ID          \n",
       "12346.0        372.86\n",
       "12347.0       1323.32\n",
       "12348.0        222.16\n",
       "12349.0       2671.14\n",
       "12351.0        300.93"
      ]
     },
     "execution_count": 63,
     "metadata": {},
     "output_type": "execute_result"
    }
   ],
   "source": [
    "monetary = df.groupby('Customer ID').agg({'Total_price': lambda Total_price: Total_price.sum()})\n",
    "monetary.rename(columns={\"Total_price\": \"Monetary\"}, inplace = True)\n",
    "monetary.head()"
   ]
  },
  {
   "cell_type": "code",
   "execution_count": 106,
   "metadata": {},
   "outputs": [],
   "source": [
    "#add customer id coloumn\n",
    "customer_id=df[\"Customer ID\"]"
   ]
  },
  {
   "cell_type": "markdown",
   "metadata": {},
   "source": [
    "# RFM "
   ]
  },
  {
   "cell_type": "code",
   "execution_count": 109,
   "metadata": {},
   "outputs": [
    {
     "data": {
      "text/html": [
       "<div>\n",
       "<style scoped>\n",
       "    .dataframe tbody tr th:only-of-type {\n",
       "        vertical-align: middle;\n",
       "    }\n",
       "\n",
       "    .dataframe tbody tr th {\n",
       "        vertical-align: top;\n",
       "    }\n",
       "\n",
       "    .dataframe thead th {\n",
       "        text-align: right;\n",
       "    }\n",
       "</style>\n",
       "<table border=\"1\" class=\"dataframe\">\n",
       "  <thead>\n",
       "    <tr style=\"text-align: right;\">\n",
       "      <th></th>\n",
       "      <th>Recency</th>\n",
       "      <th>Frequency</th>\n",
       "      <th>Monetary</th>\n",
       "    </tr>\n",
       "    <tr>\n",
       "      <th>Customer ID</th>\n",
       "      <th></th>\n",
       "      <th></th>\n",
       "      <th></th>\n",
       "    </tr>\n",
       "  </thead>\n",
       "  <tbody>\n",
       "    <tr>\n",
       "      <th>12346.0</th>\n",
       "      <td>529</td>\n",
       "      <td>11</td>\n",
       "      <td>372.86</td>\n",
       "    </tr>\n",
       "    <tr>\n",
       "      <th>12347.0</th>\n",
       "      <td>367</td>\n",
       "      <td>2</td>\n",
       "      <td>1323.32</td>\n",
       "    </tr>\n",
       "    <tr>\n",
       "      <th>12348.0</th>\n",
       "      <td>438</td>\n",
       "      <td>1</td>\n",
       "      <td>222.16</td>\n",
       "    </tr>\n",
       "    <tr>\n",
       "      <th>12349.0</th>\n",
       "      <td>407</td>\n",
       "      <td>3</td>\n",
       "      <td>2671.14</td>\n",
       "    </tr>\n",
       "    <tr>\n",
       "      <th>12351.0</th>\n",
       "      <td>375</td>\n",
       "      <td>1</td>\n",
       "      <td>300.93</td>\n",
       "    </tr>\n",
       "  </tbody>\n",
       "</table>\n",
       "</div>"
      ],
      "text/plain": [
       "             Recency  Frequency  Monetary\n",
       "Customer ID                              \n",
       "12346.0          529         11    372.86\n",
       "12347.0          367          2   1323.32\n",
       "12348.0          438          1    222.16\n",
       "12349.0          407          3   2671.14\n",
       "12351.0          375          1    300.93"
      ]
     },
     "execution_count": 109,
     "metadata": {},
     "output_type": "execute_result"
    }
   ],
   "source": [
    "# Concatenate 3 coloumns\n",
    "RFM = pd.concat([recency, frequency, monetary], axis = 1)\n",
    "RFM.head()"
   ]
  },
  {
   "cell_type": "markdown",
   "metadata": {},
   "source": [
    "# Assigning RFM scores"
   ]
  },
  {
   "cell_type": "markdown",
   "metadata": {},
   "source": [
    "The quantiles method was used to score each customer based on transaction characteristics.\n",
    "We rank the customers using the chosen metric from the best to the worst one, then divide ranked customers into groups of equal sizes and assign each group a score. \n",
    "* Divide all the score into 5 categories with qcut function where 5 is the best and 1 is the worst."
   ]
  },
  {
   "cell_type": "code",
   "execution_count": 73,
   "metadata": {},
   "outputs": [],
   "source": [
    "# For Recency and Monetary \n",
    "RFM[\"Recency_score\"] = pd.qcut(RFM['Recency'], 5, labels=[5, 4, 3, 2, 1])\n",
    "# divide 5 quantiles where the lower recency is the best which means that customer recently made a purchase. \n",
    "\n",
    "RFM[\"Monetary_score\"] = pd.qcut(RFM['Monetary'], 5, labels=[1, 2, 3, 4, 5])\n",
    "# divide 5 quantiles where the higher monetary is the best that means that sum of total_price is the highest.\n",
    "\n",
    "RFM[\"Frequency_score\"] = pd.qcut(RFM['Frequency'].rank(method=\"first\"), 5, labels = [1, 2, 3, 4, 5])\n",
    "# divide 5 quantiles where the higher frequency is the best that means that customer is frequently purchasing items.\n",
    "# In frequency there are duplicate values, so rank these as the most recent transaction is the best one."
   ]
  },
  {
   "cell_type": "code",
   "execution_count": 74,
   "metadata": {},
   "outputs": [
    {
     "data": {
      "text/html": [
       "<div>\n",
       "<style scoped>\n",
       "    .dataframe tbody tr th:only-of-type {\n",
       "        vertical-align: middle;\n",
       "    }\n",
       "\n",
       "    .dataframe tbody tr th {\n",
       "        vertical-align: top;\n",
       "    }\n",
       "\n",
       "    .dataframe thead th {\n",
       "        text-align: right;\n",
       "    }\n",
       "</style>\n",
       "<table border=\"1\" class=\"dataframe\">\n",
       "  <thead>\n",
       "    <tr style=\"text-align: right;\">\n",
       "      <th></th>\n",
       "      <th>Recency</th>\n",
       "      <th>Frequency</th>\n",
       "      <th>Monetary</th>\n",
       "      <th>Recency_score</th>\n",
       "      <th>Monetary_score</th>\n",
       "      <th>Frequency_score</th>\n",
       "    </tr>\n",
       "    <tr>\n",
       "      <th>Customer ID</th>\n",
       "      <th></th>\n",
       "      <th></th>\n",
       "      <th></th>\n",
       "      <th></th>\n",
       "      <th></th>\n",
       "      <th></th>\n",
       "    </tr>\n",
       "  </thead>\n",
       "  <tbody>\n",
       "    <tr>\n",
       "      <th>12346.0</th>\n",
       "      <td>529</td>\n",
       "      <td>11</td>\n",
       "      <td>372.86</td>\n",
       "      <td>2</td>\n",
       "      <td>2</td>\n",
       "      <td>5</td>\n",
       "    </tr>\n",
       "    <tr>\n",
       "      <th>12347.0</th>\n",
       "      <td>367</td>\n",
       "      <td>2</td>\n",
       "      <td>1323.32</td>\n",
       "      <td>5</td>\n",
       "      <td>4</td>\n",
       "      <td>2</td>\n",
       "    </tr>\n",
       "    <tr>\n",
       "      <th>12348.0</th>\n",
       "      <td>438</td>\n",
       "      <td>1</td>\n",
       "      <td>222.16</td>\n",
       "      <td>2</td>\n",
       "      <td>1</td>\n",
       "      <td>1</td>\n",
       "    </tr>\n",
       "    <tr>\n",
       "      <th>12349.0</th>\n",
       "      <td>407</td>\n",
       "      <td>3</td>\n",
       "      <td>2671.14</td>\n",
       "      <td>3</td>\n",
       "      <td>5</td>\n",
       "      <td>3</td>\n",
       "    </tr>\n",
       "    <tr>\n",
       "      <th>12351.0</th>\n",
       "      <td>375</td>\n",
       "      <td>1</td>\n",
       "      <td>300.93</td>\n",
       "      <td>5</td>\n",
       "      <td>2</td>\n",
       "      <td>1</td>\n",
       "    </tr>\n",
       "  </tbody>\n",
       "</table>\n",
       "</div>"
      ],
      "text/plain": [
       "             Recency  Frequency  Monetary Recency_score Monetary_score  \\\n",
       "Customer ID                                                              \n",
       "12346.0          529         11    372.86             2              2   \n",
       "12347.0          367          2   1323.32             5              4   \n",
       "12348.0          438          1    222.16             2              1   \n",
       "12349.0          407          3   2671.14             3              5   \n",
       "12351.0          375          1    300.93             5              2   \n",
       "\n",
       "            Frequency_score  \n",
       "Customer ID                  \n",
       "12346.0                   5  \n",
       "12347.0                   2  \n",
       "12348.0                   1  \n",
       "12349.0                   3  \n",
       "12351.0                   1  "
      ]
     },
     "execution_count": 74,
     "metadata": {},
     "output_type": "execute_result"
    }
   ],
   "source": [
    "RFM.head()"
   ]
  },
  {
   "cell_type": "code",
   "execution_count": 81,
   "metadata": {},
   "outputs": [],
   "source": [
    "#add RFM score\n",
    "RFM[\"RFM_SCORE\"] = (RFM['Recency_score'].astype(str) + RFM['Frequency_score'].astype(str) + RFM['Monetary_score'].astype(str))"
   ]
  },
  {
   "cell_type": "code",
   "execution_count": 82,
   "metadata": {},
   "outputs": [
    {
     "data": {
      "text/html": [
       "<div>\n",
       "<style scoped>\n",
       "    .dataframe tbody tr th:only-of-type {\n",
       "        vertical-align: middle;\n",
       "    }\n",
       "\n",
       "    .dataframe tbody tr th {\n",
       "        vertical-align: top;\n",
       "    }\n",
       "\n",
       "    .dataframe thead th {\n",
       "        text-align: right;\n",
       "    }\n",
       "</style>\n",
       "<table border=\"1\" class=\"dataframe\">\n",
       "  <thead>\n",
       "    <tr style=\"text-align: right;\">\n",
       "      <th></th>\n",
       "      <th>Recency</th>\n",
       "      <th>Frequency</th>\n",
       "      <th>Monetary</th>\n",
       "      <th>Recency_score</th>\n",
       "      <th>Monetary_score</th>\n",
       "      <th>Frequency_score</th>\n",
       "      <th>RFM_SCORE</th>\n",
       "    </tr>\n",
       "    <tr>\n",
       "      <th>Customer ID</th>\n",
       "      <th></th>\n",
       "      <th></th>\n",
       "      <th></th>\n",
       "      <th></th>\n",
       "      <th></th>\n",
       "      <th></th>\n",
       "      <th></th>\n",
       "    </tr>\n",
       "  </thead>\n",
       "  <tbody>\n",
       "    <tr>\n",
       "      <th>12346.0</th>\n",
       "      <td>529</td>\n",
       "      <td>11</td>\n",
       "      <td>372.86</td>\n",
       "      <td>2</td>\n",
       "      <td>2</td>\n",
       "      <td>5</td>\n",
       "      <td>252</td>\n",
       "    </tr>\n",
       "    <tr>\n",
       "      <th>12347.0</th>\n",
       "      <td>367</td>\n",
       "      <td>2</td>\n",
       "      <td>1323.32</td>\n",
       "      <td>5</td>\n",
       "      <td>4</td>\n",
       "      <td>2</td>\n",
       "      <td>524</td>\n",
       "    </tr>\n",
       "    <tr>\n",
       "      <th>12348.0</th>\n",
       "      <td>438</td>\n",
       "      <td>1</td>\n",
       "      <td>222.16</td>\n",
       "      <td>2</td>\n",
       "      <td>1</td>\n",
       "      <td>1</td>\n",
       "      <td>211</td>\n",
       "    </tr>\n",
       "    <tr>\n",
       "      <th>12349.0</th>\n",
       "      <td>407</td>\n",
       "      <td>3</td>\n",
       "      <td>2671.14</td>\n",
       "      <td>3</td>\n",
       "      <td>5</td>\n",
       "      <td>3</td>\n",
       "      <td>335</td>\n",
       "    </tr>\n",
       "    <tr>\n",
       "      <th>12351.0</th>\n",
       "      <td>375</td>\n",
       "      <td>1</td>\n",
       "      <td>300.93</td>\n",
       "      <td>5</td>\n",
       "      <td>2</td>\n",
       "      <td>1</td>\n",
       "      <td>512</td>\n",
       "    </tr>\n",
       "  </tbody>\n",
       "</table>\n",
       "</div>"
      ],
      "text/plain": [
       "             Recency  Frequency  Monetary Recency_score Monetary_score  \\\n",
       "Customer ID                                                              \n",
       "12346.0          529         11    372.86             2              2   \n",
       "12347.0          367          2   1323.32             5              4   \n",
       "12348.0          438          1    222.16             2              1   \n",
       "12349.0          407          3   2671.14             3              5   \n",
       "12351.0          375          1    300.93             5              2   \n",
       "\n",
       "            Frequency_score RFM_SCORE  \n",
       "Customer ID                            \n",
       "12346.0                   5       252  \n",
       "12347.0                   2       524  \n",
       "12348.0                   1       211  \n",
       "12349.0                   3       335  \n",
       "12351.0                   1       512  "
      ]
     },
     "execution_count": 82,
     "metadata": {},
     "output_type": "execute_result"
    }
   ],
   "source": [
    "RFM.head()"
   ]
  },
  {
   "cell_type": "markdown",
   "metadata": {},
   "source": [
    "## Customer Segment Table"
   ]
  },
  {
   "cell_type": "code",
   "execution_count": 83,
   "metadata": {},
   "outputs": [],
   "source": [
    "Cust_seg = {\n",
    "    r'[1-2][1-2]': 'Hibernating',\n",
    "    r'[1-2][3-4]': 'At_Risk',\n",
    "    r'[1-2]5': 'Cant_Loose',\n",
    "    r'3[1-2]': 'About_to_Sleep',\n",
    "    r'33': 'Need_Attention',\n",
    "    r'[3-4][4-5]': 'Loyal_Customers',\n",
    "    r'41': 'Promising',\n",
    "    r'51': 'New_Customers',\n",
    "    r'[4-5][2-3]': 'Potential_Loyalists',\n",
    "    r'5[4-5]': 'Champions'\n",
    "}"
   ]
  },
  {
   "cell_type": "markdown",
   "metadata": {},
   "source": [
    "Depending on the nature of our businesses, we might increase or decrease the relative importance of each RFM variable to arrive at the final score. \n",
    "\n",
    "**In a retail business selling fashion/cosmetics, a customer who searches and purchases products every month will have a higher recency and frequency score than monetary score. Accordingly, the RFM score could be calculated by giving more weight to R and F scores than M.** [2]"
   ]
  },
  {
   "cell_type": "code",
   "execution_count": 87,
   "metadata": {},
   "outputs": [
    {
     "data": {
      "text/html": [
       "<div>\n",
       "<style scoped>\n",
       "    .dataframe tbody tr th:only-of-type {\n",
       "        vertical-align: middle;\n",
       "    }\n",
       "\n",
       "    .dataframe tbody tr th {\n",
       "        vertical-align: top;\n",
       "    }\n",
       "\n",
       "    .dataframe thead th {\n",
       "        text-align: right;\n",
       "    }\n",
       "</style>\n",
       "<table border=\"1\" class=\"dataframe\">\n",
       "  <thead>\n",
       "    <tr style=\"text-align: right;\">\n",
       "      <th></th>\n",
       "      <th>Recency</th>\n",
       "      <th>Frequency</th>\n",
       "      <th>Monetary</th>\n",
       "      <th>Recency_score</th>\n",
       "      <th>Monetary_score</th>\n",
       "      <th>Frequency_score</th>\n",
       "      <th>RFM_SCORE</th>\n",
       "      <th>Segment</th>\n",
       "    </tr>\n",
       "    <tr>\n",
       "      <th>Customer ID</th>\n",
       "      <th></th>\n",
       "      <th></th>\n",
       "      <th></th>\n",
       "      <th></th>\n",
       "      <th></th>\n",
       "      <th></th>\n",
       "      <th></th>\n",
       "      <th></th>\n",
       "    </tr>\n",
       "  </thead>\n",
       "  <tbody>\n",
       "    <tr>\n",
       "      <th>12346.0</th>\n",
       "      <td>529</td>\n",
       "      <td>11</td>\n",
       "      <td>372.86</td>\n",
       "      <td>2</td>\n",
       "      <td>2</td>\n",
       "      <td>5</td>\n",
       "      <td>252</td>\n",
       "      <td>Cant_Loose</td>\n",
       "    </tr>\n",
       "    <tr>\n",
       "      <th>12347.0</th>\n",
       "      <td>367</td>\n",
       "      <td>2</td>\n",
       "      <td>1323.32</td>\n",
       "      <td>5</td>\n",
       "      <td>4</td>\n",
       "      <td>2</td>\n",
       "      <td>524</td>\n",
       "      <td>Potential_Loyalists</td>\n",
       "    </tr>\n",
       "    <tr>\n",
       "      <th>12348.0</th>\n",
       "      <td>438</td>\n",
       "      <td>1</td>\n",
       "      <td>222.16</td>\n",
       "      <td>2</td>\n",
       "      <td>1</td>\n",
       "      <td>1</td>\n",
       "      <td>211</td>\n",
       "      <td>Hibernating</td>\n",
       "    </tr>\n",
       "    <tr>\n",
       "      <th>12349.0</th>\n",
       "      <td>407</td>\n",
       "      <td>3</td>\n",
       "      <td>2671.14</td>\n",
       "      <td>3</td>\n",
       "      <td>5</td>\n",
       "      <td>3</td>\n",
       "      <td>335</td>\n",
       "      <td>Need_Attention</td>\n",
       "    </tr>\n",
       "    <tr>\n",
       "      <th>12351.0</th>\n",
       "      <td>375</td>\n",
       "      <td>1</td>\n",
       "      <td>300.93</td>\n",
       "      <td>5</td>\n",
       "      <td>2</td>\n",
       "      <td>1</td>\n",
       "      <td>512</td>\n",
       "      <td>New_Customers</td>\n",
       "    </tr>\n",
       "  </tbody>\n",
       "</table>\n",
       "</div>"
      ],
      "text/plain": [
       "             Recency  Frequency  Monetary Recency_score Monetary_score  \\\n",
       "Customer ID                                                              \n",
       "12346.0          529         11    372.86             2              2   \n",
       "12347.0          367          2   1323.32             5              4   \n",
       "12348.0          438          1    222.16             2              1   \n",
       "12349.0          407          3   2671.14             3              5   \n",
       "12351.0          375          1    300.93             5              2   \n",
       "\n",
       "            Frequency_score RFM_SCORE              Segment  \n",
       "Customer ID                                                 \n",
       "12346.0                   5       252           Cant_Loose  \n",
       "12347.0                   2       524  Potential_Loyalists  \n",
       "12348.0                   1       211          Hibernating  \n",
       "12349.0                   3       335       Need_Attention  \n",
       "12351.0                   1       512        New_Customers  "
      ]
     },
     "execution_count": 87,
     "metadata": {},
     "output_type": "execute_result"
    }
   ],
   "source": [
    "RFM['Segment'] = RFM['Recency_score'].astype(str) + RFM['Frequency_score'].astype(str)\n",
    "RFM['Segment'] = RFM['Segment'].replace(Cust_seg, regex=True)\n",
    "RFM.head()"
   ]
  },
  {
   "cell_type": "code",
   "execution_count": 92,
   "metadata": {},
   "outputs": [
    {
     "data": {
      "text/html": [
       "<div>\n",
       "<style scoped>\n",
       "    .dataframe tbody tr th:only-of-type {\n",
       "        vertical-align: middle;\n",
       "    }\n",
       "\n",
       "    .dataframe tbody tr th {\n",
       "        vertical-align: top;\n",
       "    }\n",
       "\n",
       "    .dataframe thead tr th {\n",
       "        text-align: left;\n",
       "    }\n",
       "\n",
       "    .dataframe thead tr:last-of-type th {\n",
       "        text-align: right;\n",
       "    }\n",
       "</style>\n",
       "<table border=\"1\" class=\"dataframe\">\n",
       "  <thead>\n",
       "    <tr>\n",
       "      <th></th>\n",
       "      <th colspan=\"5\" halign=\"left\">Recency</th>\n",
       "      <th colspan=\"5\" halign=\"left\">Frequency</th>\n",
       "      <th colspan=\"5\" halign=\"left\">Monetary</th>\n",
       "    </tr>\n",
       "    <tr>\n",
       "      <th></th>\n",
       "      <th>mean</th>\n",
       "      <th>count</th>\n",
       "      <th>min</th>\n",
       "      <th>median</th>\n",
       "      <th>max</th>\n",
       "      <th>mean</th>\n",
       "      <th>count</th>\n",
       "      <th>min</th>\n",
       "      <th>median</th>\n",
       "      <th>max</th>\n",
       "      <th>mean</th>\n",
       "      <th>count</th>\n",
       "      <th>min</th>\n",
       "      <th>median</th>\n",
       "      <th>max</th>\n",
       "    </tr>\n",
       "    <tr>\n",
       "      <th>Segment</th>\n",
       "      <th></th>\n",
       "      <th></th>\n",
       "      <th></th>\n",
       "      <th></th>\n",
       "      <th></th>\n",
       "      <th></th>\n",
       "      <th></th>\n",
       "      <th></th>\n",
       "      <th></th>\n",
       "      <th></th>\n",
       "      <th></th>\n",
       "      <th></th>\n",
       "      <th></th>\n",
       "      <th></th>\n",
       "      <th></th>\n",
       "    </tr>\n",
       "  </thead>\n",
       "  <tbody>\n",
       "    <tr>\n",
       "      <th>About_to_Sleep</th>\n",
       "      <td>417.819242</td>\n",
       "      <td>343</td>\n",
       "      <td>401</td>\n",
       "      <td>417.0</td>\n",
       "      <td>435</td>\n",
       "      <td>1.201166</td>\n",
       "      <td>343</td>\n",
       "      <td>1</td>\n",
       "      <td>1</td>\n",
       "      <td>2</td>\n",
       "      <td>441.320000</td>\n",
       "      <td>343</td>\n",
       "      <td>24.40</td>\n",
       "      <td>317.760</td>\n",
       "      <td>3502.48</td>\n",
       "    </tr>\n",
       "    <tr>\n",
       "      <th>At_Risk</th>\n",
       "      <td>516.158756</td>\n",
       "      <td>611</td>\n",
       "      <td>436</td>\n",
       "      <td>495.0</td>\n",
       "      <td>736</td>\n",
       "      <td>3.073650</td>\n",
       "      <td>611</td>\n",
       "      <td>2</td>\n",
       "      <td>3</td>\n",
       "      <td>6</td>\n",
       "      <td>1188.878316</td>\n",
       "      <td>611</td>\n",
       "      <td>24.05</td>\n",
       "      <td>760.190</td>\n",
       "      <td>34095.26</td>\n",
       "    </tr>\n",
       "    <tr>\n",
       "      <th>Cant_Loose</th>\n",
       "      <td>488.116883</td>\n",
       "      <td>77</td>\n",
       "      <td>436</td>\n",
       "      <td>473.0</td>\n",
       "      <td>662</td>\n",
       "      <td>9.116883</td>\n",
       "      <td>77</td>\n",
       "      <td>6</td>\n",
       "      <td>7</td>\n",
       "      <td>46</td>\n",
       "      <td>4099.450000</td>\n",
       "      <td>77</td>\n",
       "      <td>181.35</td>\n",
       "      <td>2322.590</td>\n",
       "      <td>26286.75</td>\n",
       "    </tr>\n",
       "    <tr>\n",
       "      <th>Champions</th>\n",
       "      <td>371.119155</td>\n",
       "      <td>663</td>\n",
       "      <td>365</td>\n",
       "      <td>371.0</td>\n",
       "      <td>379</td>\n",
       "      <td>12.553544</td>\n",
       "      <td>663</td>\n",
       "      <td>3</td>\n",
       "      <td>8</td>\n",
       "      <td>205</td>\n",
       "      <td>6852.264167</td>\n",
       "      <td>663</td>\n",
       "      <td>75.76</td>\n",
       "      <td>2508.320</td>\n",
       "      <td>349164.35</td>\n",
       "    </tr>\n",
       "    <tr>\n",
       "      <th>Hibernating</th>\n",
       "      <td>578.057030</td>\n",
       "      <td>1017</td>\n",
       "      <td>436</td>\n",
       "      <td>577.0</td>\n",
       "      <td>738</td>\n",
       "      <td>1.125860</td>\n",
       "      <td>1017</td>\n",
       "      <td>1</td>\n",
       "      <td>1</td>\n",
       "      <td>2</td>\n",
       "      <td>403.183386</td>\n",
       "      <td>1017</td>\n",
       "      <td>0.00</td>\n",
       "      <td>250.260</td>\n",
       "      <td>11880.84</td>\n",
       "    </tr>\n",
       "    <tr>\n",
       "      <th>Loyal_Customers</th>\n",
       "      <td>400.287062</td>\n",
       "      <td>742</td>\n",
       "      <td>380</td>\n",
       "      <td>395.0</td>\n",
       "      <td>435</td>\n",
       "      <td>6.830189</td>\n",
       "      <td>742</td>\n",
       "      <td>3</td>\n",
       "      <td>5</td>\n",
       "      <td>42</td>\n",
       "      <td>2746.067353</td>\n",
       "      <td>742</td>\n",
       "      <td>97.40</td>\n",
       "      <td>1821.385</td>\n",
       "      <td>50291.38</td>\n",
       "    </tr>\n",
       "    <tr>\n",
       "      <th>Need_Attention</th>\n",
       "      <td>417.265700</td>\n",
       "      <td>207</td>\n",
       "      <td>401</td>\n",
       "      <td>417.0</td>\n",
       "      <td>435</td>\n",
       "      <td>2.449275</td>\n",
       "      <td>207</td>\n",
       "      <td>2</td>\n",
       "      <td>2</td>\n",
       "      <td>3</td>\n",
       "      <td>1060.357005</td>\n",
       "      <td>207</td>\n",
       "      <td>101.10</td>\n",
       "      <td>742.900</td>\n",
       "      <td>13544.99</td>\n",
       "    </tr>\n",
       "    <tr>\n",
       "      <th>New_Customers</th>\n",
       "      <td>372.580000</td>\n",
       "      <td>50</td>\n",
       "      <td>365</td>\n",
       "      <td>372.5</td>\n",
       "      <td>379</td>\n",
       "      <td>1.000000</td>\n",
       "      <td>50</td>\n",
       "      <td>1</td>\n",
       "      <td>1</td>\n",
       "      <td>1</td>\n",
       "      <td>386.199200</td>\n",
       "      <td>50</td>\n",
       "      <td>35.40</td>\n",
       "      <td>258.825</td>\n",
       "      <td>2945.38</td>\n",
       "    </tr>\n",
       "    <tr>\n",
       "      <th>Potential_Loyalists</th>\n",
       "      <td>382.793037</td>\n",
       "      <td>517</td>\n",
       "      <td>365</td>\n",
       "      <td>383.0</td>\n",
       "      <td>400</td>\n",
       "      <td>2.017408</td>\n",
       "      <td>517</td>\n",
       "      <td>1</td>\n",
       "      <td>2</td>\n",
       "      <td>3</td>\n",
       "      <td>729.510986</td>\n",
       "      <td>517</td>\n",
       "      <td>10.95</td>\n",
       "      <td>524.650</td>\n",
       "      <td>12079.99</td>\n",
       "    </tr>\n",
       "    <tr>\n",
       "      <th>Promising</th>\n",
       "      <td>389.747126</td>\n",
       "      <td>87</td>\n",
       "      <td>380</td>\n",
       "      <td>389.0</td>\n",
       "      <td>400</td>\n",
       "      <td>1.000000</td>\n",
       "      <td>87</td>\n",
       "      <td>1</td>\n",
       "      <td>1</td>\n",
       "      <td>1</td>\n",
       "      <td>367.086782</td>\n",
       "      <td>87</td>\n",
       "      <td>30.30</td>\n",
       "      <td>293.740</td>\n",
       "      <td>2389.62</td>\n",
       "    </tr>\n",
       "  </tbody>\n",
       "</table>\n",
       "</div>"
      ],
      "text/plain": [
       "                        Recency                         Frequency            \\\n",
       "                           mean count  min median  max       mean count min   \n",
       "Segment                                                                       \n",
       "About_to_Sleep       417.819242   343  401  417.0  435   1.201166   343   1   \n",
       "At_Risk              516.158756   611  436  495.0  736   3.073650   611   2   \n",
       "Cant_Loose           488.116883    77  436  473.0  662   9.116883    77   6   \n",
       "Champions            371.119155   663  365  371.0  379  12.553544   663   3   \n",
       "Hibernating          578.057030  1017  436  577.0  738   1.125860  1017   1   \n",
       "Loyal_Customers      400.287062   742  380  395.0  435   6.830189   742   3   \n",
       "Need_Attention       417.265700   207  401  417.0  435   2.449275   207   2   \n",
       "New_Customers        372.580000    50  365  372.5  379   1.000000    50   1   \n",
       "Potential_Loyalists  382.793037   517  365  383.0  400   2.017408   517   1   \n",
       "Promising            389.747126    87  380  389.0  400   1.000000    87   1   \n",
       "\n",
       "                                    Monetary                          \\\n",
       "                    median  max         mean count     min    median   \n",
       "Segment                                                                \n",
       "About_to_Sleep           1    2   441.320000   343   24.40   317.760   \n",
       "At_Risk                  3    6  1188.878316   611   24.05   760.190   \n",
       "Cant_Loose               7   46  4099.450000    77  181.35  2322.590   \n",
       "Champions                8  205  6852.264167   663   75.76  2508.320   \n",
       "Hibernating              1    2   403.183386  1017    0.00   250.260   \n",
       "Loyal_Customers          5   42  2746.067353   742   97.40  1821.385   \n",
       "Need_Attention           2    3  1060.357005   207  101.10   742.900   \n",
       "New_Customers            1    1   386.199200    50   35.40   258.825   \n",
       "Potential_Loyalists      2    3   729.510986   517   10.95   524.650   \n",
       "Promising                1    1   367.086782    87   30.30   293.740   \n",
       "\n",
       "                                \n",
       "                           max  \n",
       "Segment                         \n",
       "About_to_Sleep         3502.48  \n",
       "At_Risk               34095.26  \n",
       "Cant_Loose            26286.75  \n",
       "Champions            349164.35  \n",
       "Hibernating           11880.84  \n",
       "Loyal_Customers       50291.38  \n",
       "Need_Attention        13544.99  \n",
       "New_Customers          2945.38  \n",
       "Potential_Loyalists   12079.99  \n",
       "Promising              2389.62  "
      ]
     },
     "execution_count": 92,
     "metadata": {},
     "output_type": "execute_result"
    }
   ],
   "source": [
    "#Statistics based on Segments\n",
    "RFM[[\"Segment\", \"Recency\", \"Frequency\", \"Monetary\"]].groupby(\"Segment\").agg([\"mean\", \"count\", \"min\", \"median\", \"max\"])"
   ]
  },
  {
   "cell_type": "markdown",
   "metadata": {},
   "source": [
    "# References"
   ]
  },
  {
   "cell_type": "markdown",
   "metadata": {},
   "source": [
    "[1]: https://neurosys.com/article/rfm-analysis-for-customer-segmentation/\n",
    "[2]: https://clevertap.com/blog/rfm-analysis/"
   ]
  },
  {
   "cell_type": "code",
   "execution_count": 110,
   "metadata": {},
   "outputs": [],
   "source": [
    "#[1]: https://neurosys.com/article/rfm-analysis-for-customer-segmentation/\n",
    "#[2]: https://clevertap.com/blog/rfm-analysis/\n",
    "#https://www.kaggle.com/mashlyn/online-retail-ii-uci"
   ]
  }
 ],
 "metadata": {
  "kernelspec": {
   "display_name": "Python 3",
   "language": "python",
   "name": "python3"
  },
  "language_info": {
   "codemirror_mode": {
    "name": "ipython",
    "version": 3
   },
   "file_extension": ".py",
   "mimetype": "text/x-python",
   "name": "python",
   "nbconvert_exporter": "python",
   "pygments_lexer": "ipython3",
   "version": "3.7.3"
  }
 },
 "nbformat": 4,
 "nbformat_minor": 4
}
